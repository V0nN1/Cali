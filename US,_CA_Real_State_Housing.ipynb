{
  "nbformat": 4,
  "nbformat_minor": 0,
  "metadata": {
    "colab": {
      "provenance": [],
      "collapsed_sections": []
    },
    "kernelspec": {
      "name": "python3",
      "display_name": "Python 3"
    },
    "language_info": {
      "name": "python"
    }
  },
  "cells": [
    {
      "cell_type": "markdown",
      "source": [
        "#**Precio de las viviendas en EEUU, CA.**\n",
        "\n",
        "##**Introducción**\n",
        "En el año 1997, el periodico *Statistics and Probability Letter* publicó un articulo escrito por Pace R. Kelly y Ronald Barry titulado *Sparse Spatial Autoregression* (Escasa Autoregresión Espacial) sobre el precio de la vivienda en el estado de California, Estados Unidos en el año 1990. El presente documento realizará un análisis exploratorio sobre los datos de dicho articulo.\n",
        "\n",
        "###**Obtención de los datos.**\n",
        "Gracias a la labor estadistica de la empresa *StatLib* y al esfuerzo informático del profesor Luís Torgo de la Universidad de Porto, ha sido posible la recaudación de los datos necesarios para la realización de este análisis. También puede ser encontrado sin acreditar en la plataforma [KAGGLE](https://www.kaggle.com/datasets/camnugent/california-housing-prices)."
      ],
      "metadata": {
        "id": "LsRirwAev_Gc"
      }
    },
    {
      "cell_type": "markdown",
      "source": [
        "---\n"
      ],
      "metadata": {
        "id": "ViCpwziQ5zuz"
      }
    },
    {
      "cell_type": "markdown",
      "source": [
        "#**Inicializando y planteando la estructura a usar para los datos** "
      ],
      "metadata": {
        "id": "KgHVEW6m9F0N"
      }
    },
    {
      "cell_type": "code",
      "source": [
        "import numpy as np\n",
        "import pandas as pd\n",
        "import seaborn as sns\n",
        "import matplotlib.pyplot as plt\n",
        "#contrucción de modelos\n",
        "import statsmodels\n",
        "import statsmodels.api as sm\n",
        "import sklearn\n",
        "from sklearn.cluster import KMeans\n",
        "from sklearn.model_selection import train_test_split\n",
        "import matplotlib.image as mpimg\n",
        "\n",
        "cali = pd.read_csv('https://raw.githubusercontent.com/IsaacMartindeDiego/IA/master/datasets/california_housing.csv')\n"
      ],
      "metadata": {
        "id": "JQ7BMkfg9SzG"
      },
      "execution_count": null,
      "outputs": []
    },
    {
      "cell_type": "markdown",
      "source": [
        "#**Datos**\n",
        "Se plantean una serie de variables categoricas para procesar los datos y realizar una visualización de los mismos y que cualquier persona pueda entenderlos con facilidad.\n",
        "\n",
        "Se trabajará con un *dataset* de 20640 y 10 variables"
      ],
      "metadata": {
        "id": "Q0OQTP3d5190"
      }
    },
    {
      "cell_type": "code",
      "source": [
        "cali.shape"
      ],
      "metadata": {
        "colab": {
          "base_uri": "https://localhost:8080/"
        },
        "id": "9_uYEy529d01",
        "outputId": "a9326f53-28fe-41c9-bfb3-8b83df2f9691"
      },
      "execution_count": null,
      "outputs": [
        {
          "output_type": "execute_result",
          "data": {
            "text/plain": [
              "(20640, 10)"
            ]
          },
          "metadata": {},
          "execution_count": 44
        }
      ]
    },
    {
      "cell_type": "markdown",
      "source": [
        "Ahora se plantea las variables (*o columnas*) existentes"
      ],
      "metadata": {
        "id": "ta0yWW799uqd"
      }
    },
    {
      "cell_type": "code",
      "source": [
        "cali.describe()"
      ],
      "metadata": {
        "colab": {
          "base_uri": "https://localhost:8080/",
          "height": 344
        },
        "id": "Ctr1vS7V96bd",
        "outputId": "99ad28d7-2a0b-459f-dce2-438fb41728c0"
      },
      "execution_count": null,
      "outputs": [
        {
          "output_type": "execute_result",
          "data": {
            "text/plain": [
              "          longitude      latitude  housing_median_age   total_rooms  \\\n",
              "count  20640.000000  20640.000000        20640.000000  20640.000000   \n",
              "mean    -119.569704     35.631861           28.639486   2635.763081   \n",
              "std        2.003532      2.135952           12.585558   2181.615252   \n",
              "min     -124.350000     32.540000            1.000000      2.000000   \n",
              "25%     -121.800000     33.930000           18.000000   1447.750000   \n",
              "50%     -118.490000     34.260000           29.000000   2127.000000   \n",
              "75%     -118.010000     37.710000           37.000000   3148.000000   \n",
              "max     -114.310000     41.950000           52.000000  39320.000000   \n",
              "\n",
              "       total_bedrooms    population    households  median_income  \\\n",
              "count    20433.000000  20640.000000  20640.000000   20640.000000   \n",
              "mean       537.870553   1425.476744    499.539680       3.870671   \n",
              "std        421.385070   1132.462122    382.329753       1.899822   \n",
              "min          1.000000      3.000000      1.000000       0.499900   \n",
              "25%        296.000000    787.000000    280.000000       2.563400   \n",
              "50%        435.000000   1166.000000    409.000000       3.534800   \n",
              "75%        647.000000   1725.000000    605.000000       4.743250   \n",
              "max       6445.000000  35682.000000   6082.000000      15.000100   \n",
              "\n",
              "       median_house_value  \n",
              "count        20640.000000  \n",
              "mean        206855.816909  \n",
              "std         115395.615874  \n",
              "min          14999.000000  \n",
              "25%         119600.000000  \n",
              "50%         179700.000000  \n",
              "75%         264725.000000  \n",
              "max         500001.000000  "
            ],
            "text/html": [
              "\n",
              "  <div id=\"df-19c85bc7-0af0-46bc-a87f-db40dc0964e9\">\n",
              "    <div class=\"colab-df-container\">\n",
              "      <div>\n",
              "<style scoped>\n",
              "    .dataframe tbody tr th:only-of-type {\n",
              "        vertical-align: middle;\n",
              "    }\n",
              "\n",
              "    .dataframe tbody tr th {\n",
              "        vertical-align: top;\n",
              "    }\n",
              "\n",
              "    .dataframe thead th {\n",
              "        text-align: right;\n",
              "    }\n",
              "</style>\n",
              "<table border=\"1\" class=\"dataframe\">\n",
              "  <thead>\n",
              "    <tr style=\"text-align: right;\">\n",
              "      <th></th>\n",
              "      <th>longitude</th>\n",
              "      <th>latitude</th>\n",
              "      <th>housing_median_age</th>\n",
              "      <th>total_rooms</th>\n",
              "      <th>total_bedrooms</th>\n",
              "      <th>population</th>\n",
              "      <th>households</th>\n",
              "      <th>median_income</th>\n",
              "      <th>median_house_value</th>\n",
              "    </tr>\n",
              "  </thead>\n",
              "  <tbody>\n",
              "    <tr>\n",
              "      <th>count</th>\n",
              "      <td>20640.000000</td>\n",
              "      <td>20640.000000</td>\n",
              "      <td>20640.000000</td>\n",
              "      <td>20640.000000</td>\n",
              "      <td>20433.000000</td>\n",
              "      <td>20640.000000</td>\n",
              "      <td>20640.000000</td>\n",
              "      <td>20640.000000</td>\n",
              "      <td>20640.000000</td>\n",
              "    </tr>\n",
              "    <tr>\n",
              "      <th>mean</th>\n",
              "      <td>-119.569704</td>\n",
              "      <td>35.631861</td>\n",
              "      <td>28.639486</td>\n",
              "      <td>2635.763081</td>\n",
              "      <td>537.870553</td>\n",
              "      <td>1425.476744</td>\n",
              "      <td>499.539680</td>\n",
              "      <td>3.870671</td>\n",
              "      <td>206855.816909</td>\n",
              "    </tr>\n",
              "    <tr>\n",
              "      <th>std</th>\n",
              "      <td>2.003532</td>\n",
              "      <td>2.135952</td>\n",
              "      <td>12.585558</td>\n",
              "      <td>2181.615252</td>\n",
              "      <td>421.385070</td>\n",
              "      <td>1132.462122</td>\n",
              "      <td>382.329753</td>\n",
              "      <td>1.899822</td>\n",
              "      <td>115395.615874</td>\n",
              "    </tr>\n",
              "    <tr>\n",
              "      <th>min</th>\n",
              "      <td>-124.350000</td>\n",
              "      <td>32.540000</td>\n",
              "      <td>1.000000</td>\n",
              "      <td>2.000000</td>\n",
              "      <td>1.000000</td>\n",
              "      <td>3.000000</td>\n",
              "      <td>1.000000</td>\n",
              "      <td>0.499900</td>\n",
              "      <td>14999.000000</td>\n",
              "    </tr>\n",
              "    <tr>\n",
              "      <th>25%</th>\n",
              "      <td>-121.800000</td>\n",
              "      <td>33.930000</td>\n",
              "      <td>18.000000</td>\n",
              "      <td>1447.750000</td>\n",
              "      <td>296.000000</td>\n",
              "      <td>787.000000</td>\n",
              "      <td>280.000000</td>\n",
              "      <td>2.563400</td>\n",
              "      <td>119600.000000</td>\n",
              "    </tr>\n",
              "    <tr>\n",
              "      <th>50%</th>\n",
              "      <td>-118.490000</td>\n",
              "      <td>34.260000</td>\n",
              "      <td>29.000000</td>\n",
              "      <td>2127.000000</td>\n",
              "      <td>435.000000</td>\n",
              "      <td>1166.000000</td>\n",
              "      <td>409.000000</td>\n",
              "      <td>3.534800</td>\n",
              "      <td>179700.000000</td>\n",
              "    </tr>\n",
              "    <tr>\n",
              "      <th>75%</th>\n",
              "      <td>-118.010000</td>\n",
              "      <td>37.710000</td>\n",
              "      <td>37.000000</td>\n",
              "      <td>3148.000000</td>\n",
              "      <td>647.000000</td>\n",
              "      <td>1725.000000</td>\n",
              "      <td>605.000000</td>\n",
              "      <td>4.743250</td>\n",
              "      <td>264725.000000</td>\n",
              "    </tr>\n",
              "    <tr>\n",
              "      <th>max</th>\n",
              "      <td>-114.310000</td>\n",
              "      <td>41.950000</td>\n",
              "      <td>52.000000</td>\n",
              "      <td>39320.000000</td>\n",
              "      <td>6445.000000</td>\n",
              "      <td>35682.000000</td>\n",
              "      <td>6082.000000</td>\n",
              "      <td>15.000100</td>\n",
              "      <td>500001.000000</td>\n",
              "    </tr>\n",
              "  </tbody>\n",
              "</table>\n",
              "</div>\n",
              "      <button class=\"colab-df-convert\" onclick=\"convertToInteractive('df-19c85bc7-0af0-46bc-a87f-db40dc0964e9')\"\n",
              "              title=\"Convert this dataframe to an interactive table.\"\n",
              "              style=\"display:none;\">\n",
              "        \n",
              "  <svg xmlns=\"http://www.w3.org/2000/svg\" height=\"24px\"viewBox=\"0 0 24 24\"\n",
              "       width=\"24px\">\n",
              "    <path d=\"M0 0h24v24H0V0z\" fill=\"none\"/>\n",
              "    <path d=\"M18.56 5.44l.94 2.06.94-2.06 2.06-.94-2.06-.94-.94-2.06-.94 2.06-2.06.94zm-11 1L8.5 8.5l.94-2.06 2.06-.94-2.06-.94L8.5 2.5l-.94 2.06-2.06.94zm10 10l.94 2.06.94-2.06 2.06-.94-2.06-.94-.94-2.06-.94 2.06-2.06.94z\"/><path d=\"M17.41 7.96l-1.37-1.37c-.4-.4-.92-.59-1.43-.59-.52 0-1.04.2-1.43.59L10.3 9.45l-7.72 7.72c-.78.78-.78 2.05 0 2.83L4 21.41c.39.39.9.59 1.41.59.51 0 1.02-.2 1.41-.59l7.78-7.78 2.81-2.81c.8-.78.8-2.07 0-2.86zM5.41 20L4 18.59l7.72-7.72 1.47 1.35L5.41 20z\"/>\n",
              "  </svg>\n",
              "      </button>\n",
              "      \n",
              "  <style>\n",
              "    .colab-df-container {\n",
              "      display:flex;\n",
              "      flex-wrap:wrap;\n",
              "      gap: 12px;\n",
              "    }\n",
              "\n",
              "    .colab-df-convert {\n",
              "      background-color: #E8F0FE;\n",
              "      border: none;\n",
              "      border-radius: 50%;\n",
              "      cursor: pointer;\n",
              "      display: none;\n",
              "      fill: #1967D2;\n",
              "      height: 32px;\n",
              "      padding: 0 0 0 0;\n",
              "      width: 32px;\n",
              "    }\n",
              "\n",
              "    .colab-df-convert:hover {\n",
              "      background-color: #E2EBFA;\n",
              "      box-shadow: 0px 1px 2px rgba(60, 64, 67, 0.3), 0px 1px 3px 1px rgba(60, 64, 67, 0.15);\n",
              "      fill: #174EA6;\n",
              "    }\n",
              "\n",
              "    [theme=dark] .colab-df-convert {\n",
              "      background-color: #3B4455;\n",
              "      fill: #D2E3FC;\n",
              "    }\n",
              "\n",
              "    [theme=dark] .colab-df-convert:hover {\n",
              "      background-color: #434B5C;\n",
              "      box-shadow: 0px 1px 3px 1px rgba(0, 0, 0, 0.15);\n",
              "      filter: drop-shadow(0px 1px 2px rgba(0, 0, 0, 0.3));\n",
              "      fill: #FFFFFF;\n",
              "    }\n",
              "  </style>\n",
              "\n",
              "      <script>\n",
              "        const buttonEl =\n",
              "          document.querySelector('#df-19c85bc7-0af0-46bc-a87f-db40dc0964e9 button.colab-df-convert');\n",
              "        buttonEl.style.display =\n",
              "          google.colab.kernel.accessAllowed ? 'block' : 'none';\n",
              "\n",
              "        async function convertToInteractive(key) {\n",
              "          const element = document.querySelector('#df-19c85bc7-0af0-46bc-a87f-db40dc0964e9');\n",
              "          const dataTable =\n",
              "            await google.colab.kernel.invokeFunction('convertToInteractive',\n",
              "                                                     [key], {});\n",
              "          if (!dataTable) return;\n",
              "\n",
              "          const docLinkHtml = 'Like what you see? Visit the ' +\n",
              "            '<a target=\"_blank\" href=https://colab.research.google.com/notebooks/data_table.ipynb>data table notebook</a>'\n",
              "            + ' to learn more about interactive tables.';\n",
              "          element.innerHTML = '';\n",
              "          dataTable['output_type'] = 'display_data';\n",
              "          await google.colab.output.renderOutput(dataTable, element);\n",
              "          const docLink = document.createElement('div');\n",
              "          docLink.innerHTML = docLinkHtml;\n",
              "          element.appendChild(docLink);\n",
              "        }\n",
              "      </script>\n",
              "    </div>\n",
              "  </div>\n",
              "  "
            ]
          },
          "metadata": {},
          "execution_count": 45
        }
      ]
    },
    {
      "cell_type": "markdown",
      "source": [
        "Nos damos cuenta de la existencia de 207 valores faltantes o *nulos* en el *dataset* bajo la variable *total_bedrooms*. Este problema lo resolveremos más adelante en el análisis para presentar una idea más clara."
      ],
      "metadata": {
        "id": "sAwE00xXjiCa"
      }
    },
    {
      "cell_type": "code",
      "source": [
        "print(cali.isnull().sum())"
      ],
      "metadata": {
        "colab": {
          "base_uri": "https://localhost:8080/"
        },
        "id": "aTMJWjU5i0at",
        "outputId": "1cf72e04-9835-4bcd-a7fb-f5181f4f8eff"
      },
      "execution_count": null,
      "outputs": [
        {
          "output_type": "stream",
          "name": "stdout",
          "text": [
            "longitude               0\n",
            "latitude                0\n",
            "housing_median_age      0\n",
            "total_rooms             0\n",
            "total_bedrooms        207\n",
            "population              0\n",
            "households              0\n",
            "median_income           0\n",
            "median_house_value      0\n",
            "ocean_proximity         0\n",
            "dtype: int64\n"
          ]
        }
      ]
    },
    {
      "cell_type": "markdown",
      "source": [
        "Se renombran las variables para un mejor entendimiento y posterior visualización de posibles gráficas. Se usa el método *head* para visualizar el cambio."
      ],
      "metadata": {
        "id": "okRkbgHB-LYU"
      }
    },
    {
      "cell_type": "code",
      "source": [
        "cali=cali.rename(columns={'longitude':'Longitud','latitude':'Latitud','housing_median_age':'Antiguedad','total_rooms':'Habitaciones','population':'Habitantes','households':'Casas','median_income':'Ingresos','median_house_value':'Coste','ocean_proximity':'Proximidad'})\n",
        "cali.head(5)"
      ],
      "metadata": {
        "colab": {
          "base_uri": "https://localhost:8080/",
          "height": 206
        },
        "id": "ytYQwTWb_24g",
        "outputId": "47b88197-f336-451a-a1d0-a7a33e1c0f72"
      },
      "execution_count": null,
      "outputs": [
        {
          "output_type": "execute_result",
          "data": {
            "text/plain": [
              "   Longitud  Latitud  Antiguedad  Habitaciones  total_bedrooms  Habitantes  \\\n",
              "0   -122.23    37.88        41.0         880.0           129.0       322.0   \n",
              "1   -122.22    37.86        21.0        7099.0          1106.0      2401.0   \n",
              "2   -122.24    37.85        52.0        1467.0           190.0       496.0   \n",
              "3   -122.25    37.85        52.0        1274.0           235.0       558.0   \n",
              "4   -122.25    37.85        52.0        1627.0           280.0       565.0   \n",
              "\n",
              "    Casas  Ingresos     Coste Proximidad  \n",
              "0   126.0    8.3252  452600.0   NEAR BAY  \n",
              "1  1138.0    8.3014  358500.0   NEAR BAY  \n",
              "2   177.0    7.2574  352100.0   NEAR BAY  \n",
              "3   219.0    5.6431  341300.0   NEAR BAY  \n",
              "4   259.0    3.8462  342200.0   NEAR BAY  "
            ],
            "text/html": [
              "\n",
              "  <div id=\"df-484ba6a7-e847-4994-970d-a4acca8756dd\">\n",
              "    <div class=\"colab-df-container\">\n",
              "      <div>\n",
              "<style scoped>\n",
              "    .dataframe tbody tr th:only-of-type {\n",
              "        vertical-align: middle;\n",
              "    }\n",
              "\n",
              "    .dataframe tbody tr th {\n",
              "        vertical-align: top;\n",
              "    }\n",
              "\n",
              "    .dataframe thead th {\n",
              "        text-align: right;\n",
              "    }\n",
              "</style>\n",
              "<table border=\"1\" class=\"dataframe\">\n",
              "  <thead>\n",
              "    <tr style=\"text-align: right;\">\n",
              "      <th></th>\n",
              "      <th>Longitud</th>\n",
              "      <th>Latitud</th>\n",
              "      <th>Antiguedad</th>\n",
              "      <th>Habitaciones</th>\n",
              "      <th>total_bedrooms</th>\n",
              "      <th>Habitantes</th>\n",
              "      <th>Casas</th>\n",
              "      <th>Ingresos</th>\n",
              "      <th>Coste</th>\n",
              "      <th>Proximidad</th>\n",
              "    </tr>\n",
              "  </thead>\n",
              "  <tbody>\n",
              "    <tr>\n",
              "      <th>0</th>\n",
              "      <td>-122.23</td>\n",
              "      <td>37.88</td>\n",
              "      <td>41.0</td>\n",
              "      <td>880.0</td>\n",
              "      <td>129.0</td>\n",
              "      <td>322.0</td>\n",
              "      <td>126.0</td>\n",
              "      <td>8.3252</td>\n",
              "      <td>452600.0</td>\n",
              "      <td>NEAR BAY</td>\n",
              "    </tr>\n",
              "    <tr>\n",
              "      <th>1</th>\n",
              "      <td>-122.22</td>\n",
              "      <td>37.86</td>\n",
              "      <td>21.0</td>\n",
              "      <td>7099.0</td>\n",
              "      <td>1106.0</td>\n",
              "      <td>2401.0</td>\n",
              "      <td>1138.0</td>\n",
              "      <td>8.3014</td>\n",
              "      <td>358500.0</td>\n",
              "      <td>NEAR BAY</td>\n",
              "    </tr>\n",
              "    <tr>\n",
              "      <th>2</th>\n",
              "      <td>-122.24</td>\n",
              "      <td>37.85</td>\n",
              "      <td>52.0</td>\n",
              "      <td>1467.0</td>\n",
              "      <td>190.0</td>\n",
              "      <td>496.0</td>\n",
              "      <td>177.0</td>\n",
              "      <td>7.2574</td>\n",
              "      <td>352100.0</td>\n",
              "      <td>NEAR BAY</td>\n",
              "    </tr>\n",
              "    <tr>\n",
              "      <th>3</th>\n",
              "      <td>-122.25</td>\n",
              "      <td>37.85</td>\n",
              "      <td>52.0</td>\n",
              "      <td>1274.0</td>\n",
              "      <td>235.0</td>\n",
              "      <td>558.0</td>\n",
              "      <td>219.0</td>\n",
              "      <td>5.6431</td>\n",
              "      <td>341300.0</td>\n",
              "      <td>NEAR BAY</td>\n",
              "    </tr>\n",
              "    <tr>\n",
              "      <th>4</th>\n",
              "      <td>-122.25</td>\n",
              "      <td>37.85</td>\n",
              "      <td>52.0</td>\n",
              "      <td>1627.0</td>\n",
              "      <td>280.0</td>\n",
              "      <td>565.0</td>\n",
              "      <td>259.0</td>\n",
              "      <td>3.8462</td>\n",
              "      <td>342200.0</td>\n",
              "      <td>NEAR BAY</td>\n",
              "    </tr>\n",
              "  </tbody>\n",
              "</table>\n",
              "</div>\n",
              "      <button class=\"colab-df-convert\" onclick=\"convertToInteractive('df-484ba6a7-e847-4994-970d-a4acca8756dd')\"\n",
              "              title=\"Convert this dataframe to an interactive table.\"\n",
              "              style=\"display:none;\">\n",
              "        \n",
              "  <svg xmlns=\"http://www.w3.org/2000/svg\" height=\"24px\"viewBox=\"0 0 24 24\"\n",
              "       width=\"24px\">\n",
              "    <path d=\"M0 0h24v24H0V0z\" fill=\"none\"/>\n",
              "    <path d=\"M18.56 5.44l.94 2.06.94-2.06 2.06-.94-2.06-.94-.94-2.06-.94 2.06-2.06.94zm-11 1L8.5 8.5l.94-2.06 2.06-.94-2.06-.94L8.5 2.5l-.94 2.06-2.06.94zm10 10l.94 2.06.94-2.06 2.06-.94-2.06-.94-.94-2.06-.94 2.06-2.06.94z\"/><path d=\"M17.41 7.96l-1.37-1.37c-.4-.4-.92-.59-1.43-.59-.52 0-1.04.2-1.43.59L10.3 9.45l-7.72 7.72c-.78.78-.78 2.05 0 2.83L4 21.41c.39.39.9.59 1.41.59.51 0 1.02-.2 1.41-.59l7.78-7.78 2.81-2.81c.8-.78.8-2.07 0-2.86zM5.41 20L4 18.59l7.72-7.72 1.47 1.35L5.41 20z\"/>\n",
              "  </svg>\n",
              "      </button>\n",
              "      \n",
              "  <style>\n",
              "    .colab-df-container {\n",
              "      display:flex;\n",
              "      flex-wrap:wrap;\n",
              "      gap: 12px;\n",
              "    }\n",
              "\n",
              "    .colab-df-convert {\n",
              "      background-color: #E8F0FE;\n",
              "      border: none;\n",
              "      border-radius: 50%;\n",
              "      cursor: pointer;\n",
              "      display: none;\n",
              "      fill: #1967D2;\n",
              "      height: 32px;\n",
              "      padding: 0 0 0 0;\n",
              "      width: 32px;\n",
              "    }\n",
              "\n",
              "    .colab-df-convert:hover {\n",
              "      background-color: #E2EBFA;\n",
              "      box-shadow: 0px 1px 2px rgba(60, 64, 67, 0.3), 0px 1px 3px 1px rgba(60, 64, 67, 0.15);\n",
              "      fill: #174EA6;\n",
              "    }\n",
              "\n",
              "    [theme=dark] .colab-df-convert {\n",
              "      background-color: #3B4455;\n",
              "      fill: #D2E3FC;\n",
              "    }\n",
              "\n",
              "    [theme=dark] .colab-df-convert:hover {\n",
              "      background-color: #434B5C;\n",
              "      box-shadow: 0px 1px 3px 1px rgba(0, 0, 0, 0.15);\n",
              "      filter: drop-shadow(0px 1px 2px rgba(0, 0, 0, 0.3));\n",
              "      fill: #FFFFFF;\n",
              "    }\n",
              "  </style>\n",
              "\n",
              "      <script>\n",
              "        const buttonEl =\n",
              "          document.querySelector('#df-484ba6a7-e847-4994-970d-a4acca8756dd button.colab-df-convert');\n",
              "        buttonEl.style.display =\n",
              "          google.colab.kernel.accessAllowed ? 'block' : 'none';\n",
              "\n",
              "        async function convertToInteractive(key) {\n",
              "          const element = document.querySelector('#df-484ba6a7-e847-4994-970d-a4acca8756dd');\n",
              "          const dataTable =\n",
              "            await google.colab.kernel.invokeFunction('convertToInteractive',\n",
              "                                                     [key], {});\n",
              "          if (!dataTable) return;\n",
              "\n",
              "          const docLinkHtml = 'Like what you see? Visit the ' +\n",
              "            '<a target=\"_blank\" href=https://colab.research.google.com/notebooks/data_table.ipynb>data table notebook</a>'\n",
              "            + ' to learn more about interactive tables.';\n",
              "          element.innerHTML = '';\n",
              "          dataTable['output_type'] = 'display_data';\n",
              "          await google.colab.output.renderOutput(dataTable, element);\n",
              "          const docLink = document.createElement('div');\n",
              "          docLink.innerHTML = docLinkHtml;\n",
              "          element.appendChild(docLink);\n",
              "        }\n",
              "      </script>\n",
              "    </div>\n",
              "  </div>\n",
              "  "
            ]
          },
          "metadata": {},
          "execution_count": 47
        }
      ]
    },
    {
      "cell_type": "markdown",
      "source": [
        "Se entiende que la variable *total_rooms* (ahora llamada \"Habitaciones\") hace referencia al total de ambientes que posee una vivienda, lo cual nos da una mejor idea de el tamaño real de la misma, mientras que la variable *total_bedrooms* hace referencia sólo a los cuartos personales. \n",
        "\n",
        "La variable \"Proximidad\" hace referencia a la proximidad de la vivienda al oceano.\n",
        "\n",
        "Se descarta la ultima variable mencionada y comprobamos."
      ],
      "metadata": {
        "id": "dr5InzHcAJhH"
      }
    },
    {
      "cell_type": "code",
      "source": [
        "cali = cali.drop(['total_bedrooms'], axis = 1)\n",
        "cali.head(5)"
      ],
      "metadata": {
        "colab": {
          "base_uri": "https://localhost:8080/",
          "height": 206
        },
        "id": "gZNpjNm2BVKO",
        "outputId": "5e3fb16b-6d66-4b6b-8256-b087ebfb0229"
      },
      "execution_count": null,
      "outputs": [
        {
          "output_type": "execute_result",
          "data": {
            "text/plain": [
              "   Longitud  Latitud  Antiguedad  Habitaciones  Habitantes   Casas  Ingresos  \\\n",
              "0   -122.23    37.88        41.0         880.0       322.0   126.0    8.3252   \n",
              "1   -122.22    37.86        21.0        7099.0      2401.0  1138.0    8.3014   \n",
              "2   -122.24    37.85        52.0        1467.0       496.0   177.0    7.2574   \n",
              "3   -122.25    37.85        52.0        1274.0       558.0   219.0    5.6431   \n",
              "4   -122.25    37.85        52.0        1627.0       565.0   259.0    3.8462   \n",
              "\n",
              "      Coste Proximidad  \n",
              "0  452600.0   NEAR BAY  \n",
              "1  358500.0   NEAR BAY  \n",
              "2  352100.0   NEAR BAY  \n",
              "3  341300.0   NEAR BAY  \n",
              "4  342200.0   NEAR BAY  "
            ],
            "text/html": [
              "\n",
              "  <div id=\"df-05025b4a-62e8-4cb4-af2f-f1a547d91b40\">\n",
              "    <div class=\"colab-df-container\">\n",
              "      <div>\n",
              "<style scoped>\n",
              "    .dataframe tbody tr th:only-of-type {\n",
              "        vertical-align: middle;\n",
              "    }\n",
              "\n",
              "    .dataframe tbody tr th {\n",
              "        vertical-align: top;\n",
              "    }\n",
              "\n",
              "    .dataframe thead th {\n",
              "        text-align: right;\n",
              "    }\n",
              "</style>\n",
              "<table border=\"1\" class=\"dataframe\">\n",
              "  <thead>\n",
              "    <tr style=\"text-align: right;\">\n",
              "      <th></th>\n",
              "      <th>Longitud</th>\n",
              "      <th>Latitud</th>\n",
              "      <th>Antiguedad</th>\n",
              "      <th>Habitaciones</th>\n",
              "      <th>Habitantes</th>\n",
              "      <th>Casas</th>\n",
              "      <th>Ingresos</th>\n",
              "      <th>Coste</th>\n",
              "      <th>Proximidad</th>\n",
              "    </tr>\n",
              "  </thead>\n",
              "  <tbody>\n",
              "    <tr>\n",
              "      <th>0</th>\n",
              "      <td>-122.23</td>\n",
              "      <td>37.88</td>\n",
              "      <td>41.0</td>\n",
              "      <td>880.0</td>\n",
              "      <td>322.0</td>\n",
              "      <td>126.0</td>\n",
              "      <td>8.3252</td>\n",
              "      <td>452600.0</td>\n",
              "      <td>NEAR BAY</td>\n",
              "    </tr>\n",
              "    <tr>\n",
              "      <th>1</th>\n",
              "      <td>-122.22</td>\n",
              "      <td>37.86</td>\n",
              "      <td>21.0</td>\n",
              "      <td>7099.0</td>\n",
              "      <td>2401.0</td>\n",
              "      <td>1138.0</td>\n",
              "      <td>8.3014</td>\n",
              "      <td>358500.0</td>\n",
              "      <td>NEAR BAY</td>\n",
              "    </tr>\n",
              "    <tr>\n",
              "      <th>2</th>\n",
              "      <td>-122.24</td>\n",
              "      <td>37.85</td>\n",
              "      <td>52.0</td>\n",
              "      <td>1467.0</td>\n",
              "      <td>496.0</td>\n",
              "      <td>177.0</td>\n",
              "      <td>7.2574</td>\n",
              "      <td>352100.0</td>\n",
              "      <td>NEAR BAY</td>\n",
              "    </tr>\n",
              "    <tr>\n",
              "      <th>3</th>\n",
              "      <td>-122.25</td>\n",
              "      <td>37.85</td>\n",
              "      <td>52.0</td>\n",
              "      <td>1274.0</td>\n",
              "      <td>558.0</td>\n",
              "      <td>219.0</td>\n",
              "      <td>5.6431</td>\n",
              "      <td>341300.0</td>\n",
              "      <td>NEAR BAY</td>\n",
              "    </tr>\n",
              "    <tr>\n",
              "      <th>4</th>\n",
              "      <td>-122.25</td>\n",
              "      <td>37.85</td>\n",
              "      <td>52.0</td>\n",
              "      <td>1627.0</td>\n",
              "      <td>565.0</td>\n",
              "      <td>259.0</td>\n",
              "      <td>3.8462</td>\n",
              "      <td>342200.0</td>\n",
              "      <td>NEAR BAY</td>\n",
              "    </tr>\n",
              "  </tbody>\n",
              "</table>\n",
              "</div>\n",
              "      <button class=\"colab-df-convert\" onclick=\"convertToInteractive('df-05025b4a-62e8-4cb4-af2f-f1a547d91b40')\"\n",
              "              title=\"Convert this dataframe to an interactive table.\"\n",
              "              style=\"display:none;\">\n",
              "        \n",
              "  <svg xmlns=\"http://www.w3.org/2000/svg\" height=\"24px\"viewBox=\"0 0 24 24\"\n",
              "       width=\"24px\">\n",
              "    <path d=\"M0 0h24v24H0V0z\" fill=\"none\"/>\n",
              "    <path d=\"M18.56 5.44l.94 2.06.94-2.06 2.06-.94-2.06-.94-.94-2.06-.94 2.06-2.06.94zm-11 1L8.5 8.5l.94-2.06 2.06-.94-2.06-.94L8.5 2.5l-.94 2.06-2.06.94zm10 10l.94 2.06.94-2.06 2.06-.94-2.06-.94-.94-2.06-.94 2.06-2.06.94z\"/><path d=\"M17.41 7.96l-1.37-1.37c-.4-.4-.92-.59-1.43-.59-.52 0-1.04.2-1.43.59L10.3 9.45l-7.72 7.72c-.78.78-.78 2.05 0 2.83L4 21.41c.39.39.9.59 1.41.59.51 0 1.02-.2 1.41-.59l7.78-7.78 2.81-2.81c.8-.78.8-2.07 0-2.86zM5.41 20L4 18.59l7.72-7.72 1.47 1.35L5.41 20z\"/>\n",
              "  </svg>\n",
              "      </button>\n",
              "      \n",
              "  <style>\n",
              "    .colab-df-container {\n",
              "      display:flex;\n",
              "      flex-wrap:wrap;\n",
              "      gap: 12px;\n",
              "    }\n",
              "\n",
              "    .colab-df-convert {\n",
              "      background-color: #E8F0FE;\n",
              "      border: none;\n",
              "      border-radius: 50%;\n",
              "      cursor: pointer;\n",
              "      display: none;\n",
              "      fill: #1967D2;\n",
              "      height: 32px;\n",
              "      padding: 0 0 0 0;\n",
              "      width: 32px;\n",
              "    }\n",
              "\n",
              "    .colab-df-convert:hover {\n",
              "      background-color: #E2EBFA;\n",
              "      box-shadow: 0px 1px 2px rgba(60, 64, 67, 0.3), 0px 1px 3px 1px rgba(60, 64, 67, 0.15);\n",
              "      fill: #174EA6;\n",
              "    }\n",
              "\n",
              "    [theme=dark] .colab-df-convert {\n",
              "      background-color: #3B4455;\n",
              "      fill: #D2E3FC;\n",
              "    }\n",
              "\n",
              "    [theme=dark] .colab-df-convert:hover {\n",
              "      background-color: #434B5C;\n",
              "      box-shadow: 0px 1px 3px 1px rgba(0, 0, 0, 0.15);\n",
              "      filter: drop-shadow(0px 1px 2px rgba(0, 0, 0, 0.3));\n",
              "      fill: #FFFFFF;\n",
              "    }\n",
              "  </style>\n",
              "\n",
              "      <script>\n",
              "        const buttonEl =\n",
              "          document.querySelector('#df-05025b4a-62e8-4cb4-af2f-f1a547d91b40 button.colab-df-convert');\n",
              "        buttonEl.style.display =\n",
              "          google.colab.kernel.accessAllowed ? 'block' : 'none';\n",
              "\n",
              "        async function convertToInteractive(key) {\n",
              "          const element = document.querySelector('#df-05025b4a-62e8-4cb4-af2f-f1a547d91b40');\n",
              "          const dataTable =\n",
              "            await google.colab.kernel.invokeFunction('convertToInteractive',\n",
              "                                                     [key], {});\n",
              "          if (!dataTable) return;\n",
              "\n",
              "          const docLinkHtml = 'Like what you see? Visit the ' +\n",
              "            '<a target=\"_blank\" href=https://colab.research.google.com/notebooks/data_table.ipynb>data table notebook</a>'\n",
              "            + ' to learn more about interactive tables.';\n",
              "          element.innerHTML = '';\n",
              "          dataTable['output_type'] = 'display_data';\n",
              "          await google.colab.output.renderOutput(dataTable, element);\n",
              "          const docLink = document.createElement('div');\n",
              "          docLink.innerHTML = docLinkHtml;\n",
              "          element.appendChild(docLink);\n",
              "        }\n",
              "      </script>\n",
              "    </div>\n",
              "  </div>\n",
              "  "
            ]
          },
          "metadata": {},
          "execution_count": 48
        }
      ]
    },
    {
      "cell_type": "markdown",
      "source": [
        "---"
      ],
      "metadata": {
        "id": "0uUzKJrvEOy3"
      }
    },
    {
      "cell_type": "markdown",
      "source": [
        "##Variables faltantes\n",
        "Dada la cantidad del *dataset*, debemos saber con certeza si algunas de estas variables tiene valores faltantes o *nulos*."
      ],
      "metadata": {
        "id": "r_flltQCEQQ6"
      }
    },
    {
      "cell_type": "code",
      "source": [
        "print(cali.isnull().sum())"
      ],
      "metadata": {
        "colab": {
          "base_uri": "https://localhost:8080/"
        },
        "id": "ztF82dwAHhAb",
        "outputId": "0de9330c-c544-49c0-dbf8-7bf72c58af70"
      },
      "execution_count": null,
      "outputs": [
        {
          "output_type": "stream",
          "name": "stdout",
          "text": [
            "Longitud        0\n",
            "Latitud         0\n",
            "Antiguedad      0\n",
            "Habitaciones    0\n",
            "Habitantes      0\n",
            "Casas           0\n",
            "Ingresos        0\n",
            "Coste           0\n",
            "Proximidad      0\n",
            "dtype: int64\n"
          ]
        }
      ]
    },
    {
      "cell_type": "markdown",
      "source": [
        "Como resultado de la eliminación de la variable *total_bedrooms* hemos eliminado los valores nulos que se encontraron con anterioridad.\n"
      ],
      "metadata": {
        "id": "kJabldOIfunh"
      }
    },
    {
      "cell_type": "markdown",
      "source": [
        "##Valores atípicos\n",
        "\n",
        "Los valores atípicos son una de las principales razones por las que se obtiene un modelo menos preciso.\n",
        "\n",
        "En este reporte encontraremos dichos valores para hacer una apreciación y poder visualizar con más detalle mediante gráficas usando la *caja de variables o diagrama de caja* como método de representación. Para ello utilizaremos las variables \"Habitantes\" y \"Coste\"."
      ],
      "metadata": {
        "id": "a_mK01lAhFED"
      }
    },
    {
      "cell_type": "code",
      "source": [
        "sns.boxplot(x=cali['Habitantes'])"
      ],
      "metadata": {
        "id": "yIPV5KHTSYGB",
        "colab": {
          "base_uri": "https://localhost:8080/",
          "height": 302
        },
        "outputId": "e233b2d1-545d-4a4b-aecb-aca28b6aae29"
      },
      "execution_count": null,
      "outputs": [
        {
          "output_type": "execute_result",
          "data": {
            "text/plain": [
              "<matplotlib.axes._subplots.AxesSubplot at 0x7f65e1e31a50>"
            ]
          },
          "metadata": {},
          "execution_count": 50
        },
        {
          "output_type": "display_data",
          "data": {
            "text/plain": [
              "<Figure size 432x288 with 1 Axes>"
            ],
            "image/png": "[encoded data removed]"
          },
          "metadata": {}
        }
      ]
    },
    {
      "cell_type": "code",
      "source": [
        "sns.boxplot(x=cali['Coste'])"
      ],
      "metadata": {
        "id": "Bh3CcLhCSZoz",
        "colab": {
          "base_uri": "https://localhost:8080/",
          "height": 302
        },
        "outputId": "f2eaa3b6-eccf-4bc1-ca2e-436d04d23dc3"
      },
      "execution_count": null,
      "outputs": [
        {
          "output_type": "execute_result",
          "data": {
            "text/plain": [
              "<matplotlib.axes._subplots.AxesSubplot at 0x7f65defc7d50>"
            ]
          },
          "metadata": {},
          "execution_count": 51
        },
        {
          "output_type": "display_data",
          "data": {
            "text/plain": [
              "<Figure size 432x288 with 1 Axes>"
            ],
            "image/png": "[encoded data removed]"
          },
          "metadata": {}
        }
      ]
    },
    {
      "cell_type": "markdown",
      "source": [
        "Se puede apreciar que bajo la variable Habitantes la media de valores está dentro de los 500 a 2500 teniendo al mismo tiempo en cuenta valores fuera de dicha media que van desde los 5000 hasta los 35000.\n",
        "\n",
        "Con la variables Coste se visualiza la caja con mucha más facilidad, lo que nos dice que hay muchos más variables dentro de la media, siendo esta entre los 110.000 a los 275.000 dólares como coste de la vivienda en California para este año.\n",
        "\n",
        "Dado que la existencia de valores atípicos en la gráfica de la variable coste es mucho menor, se puede concluir que los datos son más precisos."
      ],
      "metadata": {
        "id": "9vLEKZYzlfHL"
      }
    },
    {
      "cell_type": "markdown",
      "source": [
        "---"
      ],
      "metadata": {
        "id": "Ya_IuuqdndY0"
      }
    },
    {
      "cell_type": "markdown",
      "source": [
        "#Encontrando relación entre las variables y la representación de la misma.\n",
        "\n",
        "Para este apartado se hace uso del método *Scatterplot* como principal herramienta para este estudio. Para ello se estudió la relación entre las variables Habitantes con respecto a los datos bajo la variable Habitaciones."
      ],
      "metadata": {
        "id": "sz_hl-ZqnePU"
      }
    },
    {
      "cell_type": "code",
      "source": [
        "fig, ax = plt.subplots(figsize=(10,6))\n",
        "ax.scatter(cali['Habitaciones'], cali['Habitantes'])\n",
        "ax.set_xlabel('Habitaciones')\n",
        "ax.set_ylabel('Habitantes')\n",
        "plt.show()"
      ],
      "metadata": {
        "colab": {
          "base_uri": "https://localhost:8080/",
          "height": 394
        },
        "id": "EnX3dVzEoCH6",
        "outputId": "c4e18c89-2aec-4288-d104-1742be8292d5"
      },
      "execution_count": null,
      "outputs": [
        {
          "output_type": "display_data",
          "data": {
            "text/plain": [
              "<Figure size 720x432 with 1 Axes>"
            ],
            "image/png": "[encoded data removed]"
          },
          "metadata": {}
        }
      ]
    },
    {
      "cell_type": "markdown",
      "source": [
        "Se puede ver con facilidad que ambas variables guardan una estrecha relación entre sí, llegando a la conclusión lógica, a mientras más habitantes, más habitaciones habrá."
      ],
      "metadata": {
        "id": "0ah2EccVoHn2"
      }
    },
    {
      "cell_type": "markdown",
      "source": [
        "Este método puede ser muy útil y versátil, no sólo lo podemos utilizar para encontrar y/o representar relaciones entre los datos sino posibles errores que haya dentro de los mismos. En este caso, se desarrolla la relación entre las variables \"Antigüedad\" y \"Coste\" y logramos ver que podemos llegar a segmentar el *dataset* en partes para una mayor comprensión."
      ],
      "metadata": {
        "id": "J2LyQfX0ohFV"
      }
    },
    {
      "cell_type": "code",
      "source": [
        "fig, ax = plt.subplots(figsize=(10,6))\n",
        "ax.scatter(cali['Antiguedad'], cali['Coste'])\n",
        "ax.set_xlabel('Antiguedad')\n",
        "ax.set_ylabel('Coste')\n",
        "plt.show()"
      ],
      "metadata": {
        "colab": {
          "base_uri": "https://localhost:8080/",
          "height": 394
        },
        "id": "zksxN4xeYmrq",
        "outputId": "25033787-67cc-4c54-e12a-1cdc65f18e04"
      },
      "execution_count": null,
      "outputs": [
        {
          "output_type": "display_data",
          "data": {
            "text/plain": [
              "<Figure size 720x432 with 1 Axes>"
            ],
            "image/png": "[encoded data removed]"
          },
          "metadata": {}
        }
      ]
    },
    {
      "cell_type": "markdown",
      "source": [
        "Se puede visualizar la relación entre todas las variables de una manera mucho menos gráfica y menos entendible."
      ],
      "metadata": {
        "id": "-FaRcgx14QAr"
      }
    },
    {
      "cell_type": "code",
      "source": [
        "cali.corr()"
      ],
      "metadata": {
        "colab": {
          "base_uri": "https://localhost:8080/",
          "height": 300
        },
        "id": "XiV6hj2gl43O",
        "outputId": "e95cd5f7-cf10-4098-b470-8a0b9703f036"
      },
      "execution_count": null,
      "outputs": [
        {
          "output_type": "execute_result",
          "data": {
            "text/plain": [
              "              Longitud   Latitud  Antiguedad  Habitaciones  Habitantes  \\\n",
              "Longitud      1.000000 -0.924664   -0.108197      0.044568    0.099773   \n",
              "Latitud      -0.924664  1.000000    0.011173     -0.036100   -0.108785   \n",
              "Antiguedad   -0.108197  0.011173    1.000000     -0.361262   -0.296244   \n",
              "Habitaciones  0.044568 -0.036100   -0.361262      1.000000    0.857126   \n",
              "Habitantes    0.099773 -0.108785   -0.296244      0.857126    1.000000   \n",
              "Casas         0.055310 -0.071035   -0.302916      0.918484    0.907222   \n",
              "Ingresos     -0.015176 -0.079809   -0.119034      0.198050    0.004834   \n",
              "Coste        -0.045967 -0.144160    0.105623      0.134153   -0.024650   \n",
              "\n",
              "                 Casas  Ingresos     Coste  \n",
              "Longitud      0.055310 -0.015176 -0.045967  \n",
              "Latitud      -0.071035 -0.079809 -0.144160  \n",
              "Antiguedad   -0.302916 -0.119034  0.105623  \n",
              "Habitaciones  0.918484  0.198050  0.134153  \n",
              "Habitantes    0.907222  0.004834 -0.024650  \n",
              "Casas         1.000000  0.013033  0.065843  \n",
              "Ingresos      0.013033  1.000000  0.688075  \n",
              "Coste         0.065843  0.688075  1.000000  "
            ],
            "text/html": [
              "\n",
              "  <div id=\"df-35d689dc-f93c-4e5f-98b6-4d7d7b20eb3a\">\n",
              "    <div class=\"colab-df-container\">\n",
              "      <div>\n",
              "<style scoped>\n",
              "    .dataframe tbody tr th:only-of-type {\n",
              "        vertical-align: middle;\n",
              "    }\n",
              "\n",
              "    .dataframe tbody tr th {\n",
              "        vertical-align: top;\n",
              "    }\n",
              "\n",
              "    .dataframe thead th {\n",
              "        text-align: right;\n",
              "    }\n",
              "</style>\n",
              "<table border=\"1\" class=\"dataframe\">\n",
              "  <thead>\n",
              "    <tr style=\"text-align: right;\">\n",
              "      <th></th>\n",
              "      <th>Longitud</th>\n",
              "      <th>Latitud</th>\n",
              "      <th>Antiguedad</th>\n",
              "      <th>Habitaciones</th>\n",
              "      <th>Habitantes</th>\n",
              "      <th>Casas</th>\n",
              "      <th>Ingresos</th>\n",
              "      <th>Coste</th>\n",
              "    </tr>\n",
              "  </thead>\n",
              "  <tbody>\n",
              "    <tr>\n",
              "      <th>Longitud</th>\n",
              "      <td>1.000000</td>\n",
              "      <td>-0.924664</td>\n",
              "      <td>-0.108197</td>\n",
              "      <td>0.044568</td>\n",
              "      <td>0.099773</td>\n",
              "      <td>0.055310</td>\n",
              "      <td>-0.015176</td>\n",
              "      <td>-0.045967</td>\n",
              "    </tr>\n",
              "    <tr>\n",
              "      <th>Latitud</th>\n",
              "      <td>-0.924664</td>\n",
              "      <td>1.000000</td>\n",
              "      <td>0.011173</td>\n",
              "      <td>-0.036100</td>\n",
              "      <td>-0.108785</td>\n",
              "      <td>-0.071035</td>\n",
              "      <td>-0.079809</td>\n",
              "      <td>-0.144160</td>\n",
              "    </tr>\n",
              "    <tr>\n",
              "      <th>Antiguedad</th>\n",
              "      <td>-0.108197</td>\n",
              "      <td>0.011173</td>\n",
              "      <td>1.000000</td>\n",
              "      <td>-0.361262</td>\n",
              "      <td>-0.296244</td>\n",
              "      <td>-0.302916</td>\n",
              "      <td>-0.119034</td>\n",
              "      <td>0.105623</td>\n",
              "    </tr>\n",
              "    <tr>\n",
              "      <th>Habitaciones</th>\n",
              "      <td>0.044568</td>\n",
              "      <td>-0.036100</td>\n",
              "      <td>-0.361262</td>\n",
              "      <td>1.000000</td>\n",
              "      <td>0.857126</td>\n",
              "      <td>0.918484</td>\n",
              "      <td>0.198050</td>\n",
              "      <td>0.134153</td>\n",
              "    </tr>\n",
              "    <tr>\n",
              "      <th>Habitantes</th>\n",
              "      <td>0.099773</td>\n",
              "      <td>-0.108785</td>\n",
              "      <td>-0.296244</td>\n",
              "      <td>0.857126</td>\n",
              "      <td>1.000000</td>\n",
              "      <td>0.907222</td>\n",
              "      <td>0.004834</td>\n",
              "      <td>-0.024650</td>\n",
              "    </tr>\n",
              "    <tr>\n",
              "      <th>Casas</th>\n",
              "      <td>0.055310</td>\n",
              "      <td>-0.071035</td>\n",
              "      <td>-0.302916</td>\n",
              "      <td>0.918484</td>\n",
              "      <td>0.907222</td>\n",
              "      <td>1.000000</td>\n",
              "      <td>0.013033</td>\n",
              "      <td>0.065843</td>\n",
              "    </tr>\n",
              "    <tr>\n",
              "      <th>Ingresos</th>\n",
              "      <td>-0.015176</td>\n",
              "      <td>-0.079809</td>\n",
              "      <td>-0.119034</td>\n",
              "      <td>0.198050</td>\n",
              "      <td>0.004834</td>\n",
              "      <td>0.013033</td>\n",
              "      <td>1.000000</td>\n",
              "      <td>0.688075</td>\n",
              "    </tr>\n",
              "    <tr>\n",
              "      <th>Coste</th>\n",
              "      <td>-0.045967</td>\n",
              "      <td>-0.144160</td>\n",
              "      <td>0.105623</td>\n",
              "      <td>0.134153</td>\n",
              "      <td>-0.024650</td>\n",
              "      <td>0.065843</td>\n",
              "      <td>0.688075</td>\n",
              "      <td>1.000000</td>\n",
              "    </tr>\n",
              "  </tbody>\n",
              "</table>\n",
              "</div>\n",
              "      <button class=\"colab-df-convert\" onclick=\"convertToInteractive('df-35d689dc-f93c-4e5f-98b6-4d7d7b20eb3a')\"\n",
              "              title=\"Convert this dataframe to an interactive table.\"\n",
              "              style=\"display:none;\">\n",
              "        \n",
              "  <svg xmlns=\"http://www.w3.org/2000/svg\" height=\"24px\"viewBox=\"0 0 24 24\"\n",
              "       width=\"24px\">\n",
              "    <path d=\"M0 0h24v24H0V0z\" fill=\"none\"/>\n",
              "    <path d=\"M18.56 5.44l.94 2.06.94-2.06 2.06-.94-2.06-.94-.94-2.06-.94 2.06-2.06.94zm-11 1L8.5 8.5l.94-2.06 2.06-.94-2.06-.94L8.5 2.5l-.94 2.06-2.06.94zm10 10l.94 2.06.94-2.06 2.06-.94-2.06-.94-.94-2.06-.94 2.06-2.06.94z\"/><path d=\"M17.41 7.96l-1.37-1.37c-.4-.4-.92-.59-1.43-.59-.52 0-1.04.2-1.43.59L10.3 9.45l-7.72 7.72c-.78.78-.78 2.05 0 2.83L4 21.41c.39.39.9.59 1.41.59.51 0 1.02-.2 1.41-.59l7.78-7.78 2.81-2.81c.8-.78.8-2.07 0-2.86zM5.41 20L4 18.59l7.72-7.72 1.47 1.35L5.41 20z\"/>\n",
              "  </svg>\n",
              "      </button>\n",
              "      \n",
              "  <style>\n",
              "    .colab-df-container {\n",
              "      display:flex;\n",
              "      flex-wrap:wrap;\n",
              "      gap: 12px;\n",
              "    }\n",
              "\n",
              "    .colab-df-convert {\n",
              "      background-color: #E8F0FE;\n",
              "      border: none;\n",
              "      border-radius: 50%;\n",
              "      cursor: pointer;\n",
              "      display: none;\n",
              "      fill: #1967D2;\n",
              "      height: 32px;\n",
              "      padding: 0 0 0 0;\n",
              "      width: 32px;\n",
              "    }\n",
              "\n",
              "    .colab-df-convert:hover {\n",
              "      background-color: #E2EBFA;\n",
              "      box-shadow: 0px 1px 2px rgba(60, 64, 67, 0.3), 0px 1px 3px 1px rgba(60, 64, 67, 0.15);\n",
              "      fill: #174EA6;\n",
              "    }\n",
              "\n",
              "    [theme=dark] .colab-df-convert {\n",
              "      background-color: #3B4455;\n",
              "      fill: #D2E3FC;\n",
              "    }\n",
              "\n",
              "    [theme=dark] .colab-df-convert:hover {\n",
              "      background-color: #434B5C;\n",
              "      box-shadow: 0px 1px 3px 1px rgba(0, 0, 0, 0.15);\n",
              "      filter: drop-shadow(0px 1px 2px rgba(0, 0, 0, 0.3));\n",
              "      fill: #FFFFFF;\n",
              "    }\n",
              "  </style>\n",
              "\n",
              "      <script>\n",
              "        const buttonEl =\n",
              "          document.querySelector('#df-35d689dc-f93c-4e5f-98b6-4d7d7b20eb3a button.colab-df-convert');\n",
              "        buttonEl.style.display =\n",
              "          google.colab.kernel.accessAllowed ? 'block' : 'none';\n",
              "\n",
              "        async function convertToInteractive(key) {\n",
              "          const element = document.querySelector('#df-35d689dc-f93c-4e5f-98b6-4d7d7b20eb3a');\n",
              "          const dataTable =\n",
              "            await google.colab.kernel.invokeFunction('convertToInteractive',\n",
              "                                                     [key], {});\n",
              "          if (!dataTable) return;\n",
              "\n",
              "          const docLinkHtml = 'Like what you see? Visit the ' +\n",
              "            '<a target=\"_blank\" href=https://colab.research.google.com/notebooks/data_table.ipynb>data table notebook</a>'\n",
              "            + ' to learn more about interactive tables.';\n",
              "          element.innerHTML = '';\n",
              "          dataTable['output_type'] = 'display_data';\n",
              "          await google.colab.output.renderOutput(dataTable, element);\n",
              "          const docLink = document.createElement('div');\n",
              "          docLink.innerHTML = docLinkHtml;\n",
              "          element.appendChild(docLink);\n",
              "        }\n",
              "      </script>\n",
              "    </div>\n",
              "  </div>\n",
              "  "
            ]
          },
          "metadata": {},
          "execution_count": 54
        }
      ]
    },
    {
      "cell_type": "markdown",
      "source": [
        "###Heatmap\n",
        "\n",
        "Confirmamos numéricamente que la correlación más alta se da entre *Habitaciones* y *Casas* pero muy cerca también vemos la relación entre *Habitantes* y *Casas*. Obviamente la diagonal de la matriz de correlaciones es 1. Es posible visualizar estos resultados de manera gráfica.\n",
        "\n",
        "Como caso opuesto, tenemos el escenario donde las variables no guarden ninguna relación entre sí, como es el caso de Longitud y Latitud con valores de -0"
      ],
      "metadata": {
        "id": "YMYZrnVW1ehw"
      }
    },
    {
      "cell_type": "code",
      "source": [
        "sns.heatmap(cali.corr(), annot=True)"
      ],
      "metadata": {
        "colab": {
          "base_uri": "https://localhost:8080/",
          "height": 351
        },
        "id": "qXuxz8luzkW_",
        "outputId": "bbedf31a-1460-429a-b2b9-4495daca078e"
      },
      "execution_count": null,
      "outputs": [
        {
          "output_type": "execute_result",
          "data": {
            "text/plain": [
              "<matplotlib.axes._subplots.AxesSubplot at 0x7f65dee73fd0>"
            ]
          },
          "metadata": {},
          "execution_count": 55
        },
        {
          "output_type": "display_data",
          "data": {
            "text/plain": [
              "<Figure size 432x288 with 2 Axes>"
            ],
            "image/png": "[encoded data removed]"
          },
          "metadata": {}
        }
      ]
    },
    {
      "cell_type": "markdown",
      "source": [
        "Una vez determinadas las relaciones más estrechas entre las variables de manera alternativa, se puede gráficar la relación entre dichas variables para verla de una forma más específica. Esto se puede lograr mediante la herramienta *regplot* de la librería *matplotlib.pyplot* que se decidido nombrar como plt para facilitar su uso. "
      ],
      "metadata": {
        "id": "nORKOYib4T65"
      }
    },
    {
      "cell_type": "code",
      "source": [
        "sns.set(style=\"darkgrid\")\n",
        "fig, axs = plt.subplots(1, 3, figsize=(20, 5))\n",
        "sns.regplot(data=cali, x=\"Casas\", y= \"Habitantes\", color=\"skyblue\", ax=axs[0])\n",
        "sns.regplot(data=cali, x=\"Habitaciones\", y=\"Habitantes\", color=\"olive\", ax=axs[1])\n",
        "sns.regplot(data=cali, x=\"Antiguedad\", y=\"Habitantes\", color=\"gold\", ax=axs[2])\n",
        "\n",
        "plt.show()"
      ],
      "metadata": {
        "colab": {
          "base_uri": "https://localhost:8080/",
          "height": 325
        },
        "id": "tBleIb_OlLp9",
        "outputId": "e5a33c2c-0a60-4281-d07c-9c31c08df1e9"
      },
      "execution_count": null,
      "outputs": [
        {
          "output_type": "display_data",
          "data": {
            "text/plain": [
              "<Figure size 1440x360 with 3 Axes>"
            ],
            "image/png": "[encoded data removed]"
          },
          "metadata": {}
        }
      ]
    },
    {
      "cell_type": "markdown",
      "source": [
        "En cualquier reporte de análisis de datos, se debe colocar la cuenta de los datos dentro de sus valores.\n",
        "\n",
        "Como ejemplo, se han colocado las variables Longitud, Latitud y Coste de manera visual para comprender su totalidad dentro del compendio de datos."
      ],
      "metadata": {
        "id": "CBhPVXwf5ktb"
      }
    },
    {
      "cell_type": "code",
      "source": [
        "sns.set(style=\"darkgrid\")\n",
        "fig, axs = plt.subplots(1, 3, figsize=(25, 5))\n",
        "\n",
        "sns.histplot(data=cali, x=\"Latitud\", kde=True, color=\"skyblue\", ax=axs[0],bins=20)\n",
        "sns.histplot(data=cali, x=\"Longitud\", kde=True, color=\"olive\", ax=axs[1],bins=20)\n",
        "sns.histplot(data=cali, x=\"Antiguedad\", kde=True, color=\"gold\", ax=axs[2],bins=20)\n",
        "\n",
        "\n",
        "plt.show()"
      ],
      "metadata": {
        "colab": {
          "base_uri": "https://localhost:8080/",
          "height": 267
        },
        "id": "EK4b94SslU1s",
        "outputId": "a2c5e480-af51-45ca-8209-e1ffd3fa210d"
      },
      "execution_count": null,
      "outputs": [
        {
          "output_type": "display_data",
          "data": {
            "text/plain": [
              "<Figure size 1800x360 with 3 Axes>"
            ],
            "image/png": "[encoded data removed]"
          },
          "metadata": {}
        }
      ]
    },
    {
      "cell_type": "markdown",
      "source": [
        "###La variable Proximidad\n",
        "\n",
        "Como parte de la transparencia y la fidelidad del reporte, es conveniente mencionar que, el censo realizado en 1990 (el *dataset* original), no contenía la esta variable, la misma fue agregada años despues como una forma de agregar información categórica a los datos.\n",
        "\n",
        "Podemos observar el comportamiento de dicha variable, sabiendo que sus posibles valores son \"*NEAR BAY*\", \"*INLAND*\", \"*ISLAND*\" y \"*NEAR THE OCEAN*\", (cerca de la bahía, en tierra, isla y cerca del océano)"
      ],
      "metadata": {
        "id": "4zbPpbAkOpqT"
      }
    },
    {
      "cell_type": "code",
      "source": [
        "cali.head(10)"
      ],
      "metadata": {
        "colab": {
          "base_uri": "https://localhost:8080/",
          "height": 363
        },
        "id": "CocvoyCNQYpB",
        "outputId": "14537830-2629-4603-c8c6-5692ea034549"
      },
      "execution_count": null,
      "outputs": [
        {
          "output_type": "execute_result",
          "data": {
            "text/plain": [
              "   Longitud  Latitud  Antiguedad  Habitaciones  Habitantes   Casas  Ingresos  \\\n",
              "0   -122.23    37.88        41.0         880.0       322.0   126.0    8.3252   \n",
              "1   -122.22    37.86        21.0        7099.0      2401.0  1138.0    8.3014   \n",
              "2   -122.24    37.85        52.0        1467.0       496.0   177.0    7.2574   \n",
              "3   -122.25    37.85        52.0        1274.0       558.0   219.0    5.6431   \n",
              "4   -122.25    37.85        52.0        1627.0       565.0   259.0    3.8462   \n",
              "5   -122.25    37.85        52.0         919.0       413.0   193.0    4.0368   \n",
              "6   -122.25    37.84        52.0        2535.0      1094.0   514.0    3.6591   \n",
              "7   -122.25    37.84        52.0        3104.0      1157.0   647.0    3.1200   \n",
              "8   -122.26    37.84        42.0        2555.0      1206.0   595.0    2.0804   \n",
              "9   -122.25    37.84        52.0        3549.0      1551.0   714.0    3.6912   \n",
              "\n",
              "      Coste Proximidad  \n",
              "0  452600.0   NEAR BAY  \n",
              "1  358500.0   NEAR BAY  \n",
              "2  352100.0   NEAR BAY  \n",
              "3  341300.0   NEAR BAY  \n",
              "4  342200.0   NEAR BAY  \n",
              "5  269700.0   NEAR BAY  \n",
              "6  299200.0   NEAR BAY  \n",
              "7  241400.0   NEAR BAY  \n",
              "8  226700.0   NEAR BAY  \n",
              "9  261100.0   NEAR BAY  "
            ],
            "text/html": [
              "\n",
              "  <div id=\"df-644f4153-ddce-4a12-9466-d886837ad632\">\n",
              "    <div class=\"colab-df-container\">\n",
              "      <div>\n",
              "<style scoped>\n",
              "    .dataframe tbody tr th:only-of-type {\n",
              "        vertical-align: middle;\n",
              "    }\n",
              "\n",
              "    .dataframe tbody tr th {\n",
              "        vertical-align: top;\n",
              "    }\n",
              "\n",
              "    .dataframe thead th {\n",
              "        text-align: right;\n",
              "    }\n",
              "</style>\n",
              "<table border=\"1\" class=\"dataframe\">\n",
              "  <thead>\n",
              "    <tr style=\"text-align: right;\">\n",
              "      <th></th>\n",
              "      <th>Longitud</th>\n",
              "      <th>Latitud</th>\n",
              "      <th>Antiguedad</th>\n",
              "      <th>Habitaciones</th>\n",
              "      <th>Habitantes</th>\n",
              "      <th>Casas</th>\n",
              "      <th>Ingresos</th>\n",
              "      <th>Coste</th>\n",
              "      <th>Proximidad</th>\n",
              "    </tr>\n",
              "  </thead>\n",
              "  <tbody>\n",
              "    <tr>\n",
              "      <th>0</th>\n",
              "      <td>-122.23</td>\n",
              "      <td>37.88</td>\n",
              "      <td>41.0</td>\n",
              "      <td>880.0</td>\n",
              "      <td>322.0</td>\n",
              "      <td>126.0</td>\n",
              "      <td>8.3252</td>\n",
              "      <td>452600.0</td>\n",
              "      <td>NEAR BAY</td>\n",
              "    </tr>\n",
              "    <tr>\n",
              "      <th>1</th>\n",
              "      <td>-122.22</td>\n",
              "      <td>37.86</td>\n",
              "      <td>21.0</td>\n",
              "      <td>7099.0</td>\n",
              "      <td>2401.0</td>\n",
              "      <td>1138.0</td>\n",
              "      <td>8.3014</td>\n",
              "      <td>358500.0</td>\n",
              "      <td>NEAR BAY</td>\n",
              "    </tr>\n",
              "    <tr>\n",
              "      <th>2</th>\n",
              "      <td>-122.24</td>\n",
              "      <td>37.85</td>\n",
              "      <td>52.0</td>\n",
              "      <td>1467.0</td>\n",
              "      <td>496.0</td>\n",
              "      <td>177.0</td>\n",
              "      <td>7.2574</td>\n",
              "      <td>352100.0</td>\n",
              "      <td>NEAR BAY</td>\n",
              "    </tr>\n",
              "    <tr>\n",
              "      <th>3</th>\n",
              "      <td>-122.25</td>\n",
              "      <td>37.85</td>\n",
              "      <td>52.0</td>\n",
              "      <td>1274.0</td>\n",
              "      <td>558.0</td>\n",
              "      <td>219.0</td>\n",
              "      <td>5.6431</td>\n",
              "      <td>341300.0</td>\n",
              "      <td>NEAR BAY</td>\n",
              "    </tr>\n",
              "    <tr>\n",
              "      <th>4</th>\n",
              "      <td>-122.25</td>\n",
              "      <td>37.85</td>\n",
              "      <td>52.0</td>\n",
              "      <td>1627.0</td>\n",
              "      <td>565.0</td>\n",
              "      <td>259.0</td>\n",
              "      <td>3.8462</td>\n",
              "      <td>342200.0</td>\n",
              "      <td>NEAR BAY</td>\n",
              "    </tr>\n",
              "    <tr>\n",
              "      <th>5</th>\n",
              "      <td>-122.25</td>\n",
              "      <td>37.85</td>\n",
              "      <td>52.0</td>\n",
              "      <td>919.0</td>\n",
              "      <td>413.0</td>\n",
              "      <td>193.0</td>\n",
              "      <td>4.0368</td>\n",
              "      <td>269700.0</td>\n",
              "      <td>NEAR BAY</td>\n",
              "    </tr>\n",
              "    <tr>\n",
              "      <th>6</th>\n",
              "      <td>-122.25</td>\n",
              "      <td>37.84</td>\n",
              "      <td>52.0</td>\n",
              "      <td>2535.0</td>\n",
              "      <td>1094.0</td>\n",
              "      <td>514.0</td>\n",
              "      <td>3.6591</td>\n",
              "      <td>299200.0</td>\n",
              "      <td>NEAR BAY</td>\n",
              "    </tr>\n",
              "    <tr>\n",
              "      <th>7</th>\n",
              "      <td>-122.25</td>\n",
              "      <td>37.84</td>\n",
              "      <td>52.0</td>\n",
              "      <td>3104.0</td>\n",
              "      <td>1157.0</td>\n",
              "      <td>647.0</td>\n",
              "      <td>3.1200</td>\n",
              "      <td>241400.0</td>\n",
              "      <td>NEAR BAY</td>\n",
              "    </tr>\n",
              "    <tr>\n",
              "      <th>8</th>\n",
              "      <td>-122.26</td>\n",
              "      <td>37.84</td>\n",
              "      <td>42.0</td>\n",
              "      <td>2555.0</td>\n",
              "      <td>1206.0</td>\n",
              "      <td>595.0</td>\n",
              "      <td>2.0804</td>\n",
              "      <td>226700.0</td>\n",
              "      <td>NEAR BAY</td>\n",
              "    </tr>\n",
              "    <tr>\n",
              "      <th>9</th>\n",
              "      <td>-122.25</td>\n",
              "      <td>37.84</td>\n",
              "      <td>52.0</td>\n",
              "      <td>3549.0</td>\n",
              "      <td>1551.0</td>\n",
              "      <td>714.0</td>\n",
              "      <td>3.6912</td>\n",
              "      <td>261100.0</td>\n",
              "      <td>NEAR BAY</td>\n",
              "    </tr>\n",
              "  </tbody>\n",
              "</table>\n",
              "</div>\n",
              "      <button class=\"colab-df-convert\" onclick=\"convertToInteractive('df-644f4153-ddce-4a12-9466-d886837ad632')\"\n",
              "              title=\"Convert this dataframe to an interactive table.\"\n",
              "              style=\"display:none;\">\n",
              "        \n",
              "  <svg xmlns=\"http://www.w3.org/2000/svg\" height=\"24px\"viewBox=\"0 0 24 24\"\n",
              "       width=\"24px\">\n",
              "    <path d=\"M0 0h24v24H0V0z\" fill=\"none\"/>\n",
              "    <path d=\"M18.56 5.44l.94 2.06.94-2.06 2.06-.94-2.06-.94-.94-2.06-.94 2.06-2.06.94zm-11 1L8.5 8.5l.94-2.06 2.06-.94-2.06-.94L8.5 2.5l-.94 2.06-2.06.94zm10 10l.94 2.06.94-2.06 2.06-.94-2.06-.94-.94-2.06-.94 2.06-2.06.94z\"/><path d=\"M17.41 7.96l-1.37-1.37c-.4-.4-.92-.59-1.43-.59-.52 0-1.04.2-1.43.59L10.3 9.45l-7.72 7.72c-.78.78-.78 2.05 0 2.83L4 21.41c.39.39.9.59 1.41.59.51 0 1.02-.2 1.41-.59l7.78-7.78 2.81-2.81c.8-.78.8-2.07 0-2.86zM5.41 20L4 18.59l7.72-7.72 1.47 1.35L5.41 20z\"/>\n",
              "  </svg>\n",
              "      </button>\n",
              "      \n",
              "  <style>\n",
              "    .colab-df-container {\n",
              "      display:flex;\n",
              "      flex-wrap:wrap;\n",
              "      gap: 12px;\n",
              "    }\n",
              "\n",
              "    .colab-df-convert {\n",
              "      background-color: #E8F0FE;\n",
              "      border: none;\n",
              "      border-radius: 50%;\n",
              "      cursor: pointer;\n",
              "      display: none;\n",
              "      fill: #1967D2;\n",
              "      height: 32px;\n",
              "      padding: 0 0 0 0;\n",
              "      width: 32px;\n",
              "    }\n",
              "\n",
              "    .colab-df-convert:hover {\n",
              "      background-color: #E2EBFA;\n",
              "      box-shadow: 0px 1px 2px rgba(60, 64, 67, 0.3), 0px 1px 3px 1px rgba(60, 64, 67, 0.15);\n",
              "      fill: #174EA6;\n",
              "    }\n",
              "\n",
              "    [theme=dark] .colab-df-convert {\n",
              "      background-color: #3B4455;\n",
              "      fill: #D2E3FC;\n",
              "    }\n",
              "\n",
              "    [theme=dark] .colab-df-convert:hover {\n",
              "      background-color: #434B5C;\n",
              "      box-shadow: 0px 1px 3px 1px rgba(0, 0, 0, 0.15);\n",
              "      filter: drop-shadow(0px 1px 2px rgba(0, 0, 0, 0.3));\n",
              "      fill: #FFFFFF;\n",
              "    }\n",
              "  </style>\n",
              "\n",
              "      <script>\n",
              "        const buttonEl =\n",
              "          document.querySelector('#df-644f4153-ddce-4a12-9466-d886837ad632 button.colab-df-convert');\n",
              "        buttonEl.style.display =\n",
              "          google.colab.kernel.accessAllowed ? 'block' : 'none';\n",
              "\n",
              "        async function convertToInteractive(key) {\n",
              "          const element = document.querySelector('#df-644f4153-ddce-4a12-9466-d886837ad632');\n",
              "          const dataTable =\n",
              "            await google.colab.kernel.invokeFunction('convertToInteractive',\n",
              "                                                     [key], {});\n",
              "          if (!dataTable) return;\n",
              "\n",
              "          const docLinkHtml = 'Like what you see? Visit the ' +\n",
              "            '<a target=\"_blank\" href=https://colab.research.google.com/notebooks/data_table.ipynb>data table notebook</a>'\n",
              "            + ' to learn more about interactive tables.';\n",
              "          element.innerHTML = '';\n",
              "          dataTable['output_type'] = 'display_data';\n",
              "          await google.colab.output.renderOutput(dataTable, element);\n",
              "          const docLink = document.createElement('div');\n",
              "          docLink.innerHTML = docLinkHtml;\n",
              "          element.appendChild(docLink);\n",
              "        }\n",
              "      </script>\n",
              "    </div>\n",
              "  </div>\n",
              "  "
            ]
          },
          "metadata": {},
          "execution_count": 58
        }
      ]
    },
    {
      "cell_type": "markdown",
      "source": [
        "---"
      ],
      "metadata": {
        "id": "TUpl3Y2e7o58"
      }
    },
    {
      "cell_type": "markdown",
      "source": [
        "Se crea una copia del *dataset*. Como se verá posteriormente, el apartado de modelización, con el actual compendio de datos, requiere de la modificación de la variable \"Coste\" a binaria para usar dicha variable durante todo el apartado sin alterar los datos originales."
      ],
      "metadata": {
        "id": "mw1inGLpAZFw"
      }
    },
    {
      "cell_type": "code",
      "source": [
        "cali_copy = cali.copy()"
      ],
      "metadata": {
        "id": "XOX_1yWi7O3J"
      },
      "execution_count": null,
      "outputs": []
    },
    {
      "cell_type": "markdown",
      "source": [
        "#Modelización\n",
        "Para entender la utilidad de la modelización, se inicializará un modelo de predicción usando el método del *K número de vecinos* para aprovechar de manera más análitica el compendio presentado. Comenzamos por cambiar la variable \"Coste\" a entero."
      ],
      "metadata": {
        "id": "hySJJeAXUggW"
      }
    },
    {
      "cell_type": "code",
      "source": [
        "cali_copy['Coste'] = (cali_copy['Coste'] >= 300000).astype(int)"
      ],
      "metadata": {
        "id": "0XpLDsP8xpKG"
      },
      "execution_count": null,
      "outputs": []
    },
    {
      "cell_type": "markdown",
      "source": [
        "A modo de buscar saber en completitud el *dataset*, podemos averiguar la dsitribución de una cierta variable y la pasamos a binaria."
      ],
      "metadata": {
        "id": "6-YtuumVSxEM"
      }
    },
    {
      "cell_type": "code",
      "source": [
        "print(\"Frecuencia por clase:\\n{}\".format({n: v for n, v in zip(cali_copy.Casas, np.bincount(cali_copy.Coste))}))"
      ],
      "metadata": {
        "colab": {
          "base_uri": "https://localhost:8080/"
        },
        "id": "nHkTToNGUDVi",
        "outputId": "02af2413-2c59-4c5f-db97-8d1bb1f358cd"
      },
      "execution_count": null,
      "outputs": [
        {
          "output_type": "stream",
          "name": "stdout",
          "text": [
            "Frecuencia por clase:\n",
            "{126.0: 16774, 1138.0: 3866}\n"
          ]
        }
      ]
    },
    {
      "cell_type": "code",
      "source": [
        "#Le damos formato a los valores\n",
        "print('Nombres de las variables:{}'.format(cali_copy.Coste))"
      ],
      "metadata": {
        "colab": {
          "base_uri": "https://localhost:8080/"
        },
        "id": "T4SoIbFkx_IL",
        "outputId": "1c32c7fb-bfcf-4d56-8c23-b5ca09131676"
      },
      "execution_count": null,
      "outputs": [
        {
          "output_type": "stream",
          "name": "stdout",
          "text": [
            "Nombres de las variables:0        1\n",
            "1        1\n",
            "2        1\n",
            "3        1\n",
            "4        1\n",
            "        ..\n",
            "20635    0\n",
            "20636    0\n",
            "20637    0\n",
            "20638    0\n",
            "20639    0\n",
            "Name: Coste, Length: 20640, dtype: int64\n"
          ]
        }
      ]
    },
    {
      "cell_type": "code",
      "source": [
        "from sklearn.model_selection import train_test_split\n",
        "\n",
        "X_train,X_test,y_train,y_test=train_test_split(cali_copy[[\"Antiguedad\",\"Habitaciones\",\"Habitantes\",\"Longitud\",\"Latitud\",\"Ingresos\"]],\n",
        "                                              cali_copy[[\"Coste\"]],\n",
        "                                              random_state=0)\n",
        "print('X_train shape: {}'.format(X_train.shape))\n",
        "print('y_train shape: {}'.format(y_train.shape))\n",
        "print('X_test shape: {}'.format(X_test.shape))\n",
        "print('y_test shape: {}'.format(y_test.shape))"
      ],
      "metadata": {
        "colab": {
          "base_uri": "https://localhost:8080/"
        },
        "id": "2dvc4i6sWFhF",
        "outputId": "f1124098-1ecd-4013-8a03-c44acdbc0221"
      },
      "execution_count": null,
      "outputs": [
        {
          "output_type": "stream",
          "name": "stdout",
          "text": [
            "X_train shape: (15480, 6)\n",
            "y_train shape: (15480, 1)\n",
            "X_test shape: (5160, 6)\n",
            "y_test shape: (5160, 1)\n"
          ]
        }
      ]
    },
    {
      "cell_type": "code",
      "source": [
        "#se pasa las variables asociadas al modelo para visualización\n",
        "df = pd.DataFrame(X_train,columns=cali_copy.Coste)\n",
        "\n",
        "#comprobamos\n",
        "df.head()"
      ],
      "metadata": {
        "colab": {
          "base_uri": "https://localhost:8080/",
          "height": 236
        },
        "id": "9sKGq8m8WQda",
        "outputId": "d57c55d1-ad16-4b97-cc3f-ce8ed0c851a4"
      },
      "execution_count": null,
      "outputs": [
        {
          "output_type": "execute_result",
          "data": {
            "text/plain": [
              "Coste   1   1   1   1   1   0   0   0   0   0  ...   0   0   0   0   0   0  \\\n",
              "19226 NaN NaN NaN NaN NaN NaN NaN NaN NaN NaN  ... NaN NaN NaN NaN NaN NaN   \n",
              "14549 NaN NaN NaN NaN NaN NaN NaN NaN NaN NaN  ... NaN NaN NaN NaN NaN NaN   \n",
              "9093  NaN NaN NaN NaN NaN NaN NaN NaN NaN NaN  ... NaN NaN NaN NaN NaN NaN   \n",
              "12213 NaN NaN NaN NaN NaN NaN NaN NaN NaN NaN  ... NaN NaN NaN NaN NaN NaN   \n",
              "12765 NaN NaN NaN NaN NaN NaN NaN NaN NaN NaN  ... NaN NaN NaN NaN NaN NaN   \n",
              "\n",
              "Coste   0   0   0   0  \n",
              "19226 NaN NaN NaN NaN  \n",
              "14549 NaN NaN NaN NaN  \n",
              "9093  NaN NaN NaN NaN  \n",
              "12213 NaN NaN NaN NaN  \n",
              "12765 NaN NaN NaN NaN  \n",
              "\n",
              "[5 rows x 20640 columns]"
            ],
            "text/html": [
              "\n",
              "  <div id=\"df-d5836397-f71c-4721-96d6-ba6000adafb4\">\n",
              "    <div class=\"colab-df-container\">\n",
              "      <div>\n",
              "<style scoped>\n",
              "    .dataframe tbody tr th:only-of-type {\n",
              "        vertical-align: middle;\n",
              "    }\n",
              "\n",
              "    .dataframe tbody tr th {\n",
              "        vertical-align: top;\n",
              "    }\n",
              "\n",
              "    .dataframe thead th {\n",
              "        text-align: right;\n",
              "    }\n",
              "</style>\n",
              "<table border=\"1\" class=\"dataframe\">\n",
              "  <thead>\n",
              "    <tr style=\"text-align: right;\">\n",
              "      <th>Coste</th>\n",
              "      <th>1</th>\n",
              "      <th>1</th>\n",
              "      <th>1</th>\n",
              "      <th>1</th>\n",
              "      <th>1</th>\n",
              "      <th>0</th>\n",
              "      <th>0</th>\n",
              "      <th>0</th>\n",
              "      <th>0</th>\n",
              "      <th>0</th>\n",
              "      <th>...</th>\n",
              "      <th>0</th>\n",
              "      <th>0</th>\n",
              "      <th>0</th>\n",
              "      <th>0</th>\n",
              "      <th>0</th>\n",
              "      <th>0</th>\n",
              "      <th>0</th>\n",
              "      <th>0</th>\n",
              "      <th>0</th>\n",
              "      <th>0</th>\n",
              "    </tr>\n",
              "  </thead>\n",
              "  <tbody>\n",
              "    <tr>\n",
              "      <th>19226</th>\n",
              "      <td>NaN</td>\n",
              "      <td>NaN</td>\n",
              "      <td>NaN</td>\n",
              "      <td>NaN</td>\n",
              "      <td>NaN</td>\n",
              "      <td>NaN</td>\n",
              "      <td>NaN</td>\n",
              "      <td>NaN</td>\n",
              "      <td>NaN</td>\n",
              "      <td>NaN</td>\n",
              "      <td>...</td>\n",
              "      <td>NaN</td>\n",
              "      <td>NaN</td>\n",
              "      <td>NaN</td>\n",
              "      <td>NaN</td>\n",
              "      <td>NaN</td>\n",
              "      <td>NaN</td>\n",
              "      <td>NaN</td>\n",
              "      <td>NaN</td>\n",
              "      <td>NaN</td>\n",
              "      <td>NaN</td>\n",
              "    </tr>\n",
              "    <tr>\n",
              "      <th>14549</th>\n",
              "      <td>NaN</td>\n",
              "      <td>NaN</td>\n",
              "      <td>NaN</td>\n",
              "      <td>NaN</td>\n",
              "      <td>NaN</td>\n",
              "      <td>NaN</td>\n",
              "      <td>NaN</td>\n",
              "      <td>NaN</td>\n",
              "      <td>NaN</td>\n",
              "      <td>NaN</td>\n",
              "      <td>...</td>\n",
              "      <td>NaN</td>\n",
              "      <td>NaN</td>\n",
              "      <td>NaN</td>\n",
              "      <td>NaN</td>\n",
              "      <td>NaN</td>\n",
              "      <td>NaN</td>\n",
              "      <td>NaN</td>\n",
              "      <td>NaN</td>\n",
              "      <td>NaN</td>\n",
              "      <td>NaN</td>\n",
              "    </tr>\n",
              "    <tr>\n",
              "      <th>9093</th>\n",
              "      <td>NaN</td>\n",
              "      <td>NaN</td>\n",
              "      <td>NaN</td>\n",
              "      <td>NaN</td>\n",
              "      <td>NaN</td>\n",
              "      <td>NaN</td>\n",
              "      <td>NaN</td>\n",
              "      <td>NaN</td>\n",
              "      <td>NaN</td>\n",
              "      <td>NaN</td>\n",
              "      <td>...</td>\n",
              "      <td>NaN</td>\n",
              "      <td>NaN</td>\n",
              "      <td>NaN</td>\n",
              "      <td>NaN</td>\n",
              "      <td>NaN</td>\n",
              "      <td>NaN</td>\n",
              "      <td>NaN</td>\n",
              "      <td>NaN</td>\n",
              "      <td>NaN</td>\n",
              "      <td>NaN</td>\n",
              "    </tr>\n",
              "    <tr>\n",
              "      <th>12213</th>\n",
              "      <td>NaN</td>\n",
              "      <td>NaN</td>\n",
              "      <td>NaN</td>\n",
              "      <td>NaN</td>\n",
              "      <td>NaN</td>\n",
              "      <td>NaN</td>\n",
              "      <td>NaN</td>\n",
              "      <td>NaN</td>\n",
              "      <td>NaN</td>\n",
              "      <td>NaN</td>\n",
              "      <td>...</td>\n",
              "      <td>NaN</td>\n",
              "      <td>NaN</td>\n",
              "      <td>NaN</td>\n",
              "      <td>NaN</td>\n",
              "      <td>NaN</td>\n",
              "      <td>NaN</td>\n",
              "      <td>NaN</td>\n",
              "      <td>NaN</td>\n",
              "      <td>NaN</td>\n",
              "      <td>NaN</td>\n",
              "    </tr>\n",
              "    <tr>\n",
              "      <th>12765</th>\n",
              "      <td>NaN</td>\n",
              "      <td>NaN</td>\n",
              "      <td>NaN</td>\n",
              "      <td>NaN</td>\n",
              "      <td>NaN</td>\n",
              "      <td>NaN</td>\n",
              "      <td>NaN</td>\n",
              "      <td>NaN</td>\n",
              "      <td>NaN</td>\n",
              "      <td>NaN</td>\n",
              "      <td>...</td>\n",
              "      <td>NaN</td>\n",
              "      <td>NaN</td>\n",
              "      <td>NaN</td>\n",
              "      <td>NaN</td>\n",
              "      <td>NaN</td>\n",
              "      <td>NaN</td>\n",
              "      <td>NaN</td>\n",
              "      <td>NaN</td>\n",
              "      <td>NaN</td>\n",
              "      <td>NaN</td>\n",
              "    </tr>\n",
              "  </tbody>\n",
              "</table>\n",
              "<p>5 rows × 20640 columns</p>\n",
              "</div>\n",
              "      <button class=\"colab-df-convert\" onclick=\"convertToInteractive('df-d5836397-f71c-4721-96d6-ba6000adafb4')\"\n",
              "              title=\"Convert this dataframe to an interactive table.\"\n",
              "              style=\"display:none;\">\n",
              "        \n",
              "  <svg xmlns=\"http://www.w3.org/2000/svg\" height=\"24px\"viewBox=\"0 0 24 24\"\n",
              "       width=\"24px\">\n",
              "    <path d=\"M0 0h24v24H0V0z\" fill=\"none\"/>\n",
              "    <path d=\"M18.56 5.44l.94 2.06.94-2.06 2.06-.94-2.06-.94-.94-2.06-.94 2.06-2.06.94zm-11 1L8.5 8.5l.94-2.06 2.06-.94-2.06-.94L8.5 2.5l-.94 2.06-2.06.94zm10 10l.94 2.06.94-2.06 2.06-.94-2.06-.94-.94-2.06-.94 2.06-2.06.94z\"/><path d=\"M17.41 7.96l-1.37-1.37c-.4-.4-.92-.59-1.43-.59-.52 0-1.04.2-1.43.59L10.3 9.45l-7.72 7.72c-.78.78-.78 2.05 0 2.83L4 21.41c.39.39.9.59 1.41.59.51 0 1.02-.2 1.41-.59l7.78-7.78 2.81-2.81c.8-.78.8-2.07 0-2.86zM5.41 20L4 18.59l7.72-7.72 1.47 1.35L5.41 20z\"/>\n",
              "  </svg>\n",
              "      </button>\n",
              "      \n",
              "  <style>\n",
              "    .colab-df-container {\n",
              "      display:flex;\n",
              "      flex-wrap:wrap;\n",
              "      gap: 12px;\n",
              "    }\n",
              "\n",
              "    .colab-df-convert {\n",
              "      background-color: #E8F0FE;\n",
              "      border: none;\n",
              "      border-radius: 50%;\n",
              "      cursor: pointer;\n",
              "      display: none;\n",
              "      fill: #1967D2;\n",
              "      height: 32px;\n",
              "      padding: 0 0 0 0;\n",
              "      width: 32px;\n",
              "    }\n",
              "\n",
              "    .colab-df-convert:hover {\n",
              "      background-color: #E2EBFA;\n",
              "      box-shadow: 0px 1px 2px rgba(60, 64, 67, 0.3), 0px 1px 3px 1px rgba(60, 64, 67, 0.15);\n",
              "      fill: #174EA6;\n",
              "    }\n",
              "\n",
              "    [theme=dark] .colab-df-convert {\n",
              "      background-color: #3B4455;\n",
              "      fill: #D2E3FC;\n",
              "    }\n",
              "\n",
              "    [theme=dark] .colab-df-convert:hover {\n",
              "      background-color: #434B5C;\n",
              "      box-shadow: 0px 1px 3px 1px rgba(0, 0, 0, 0.15);\n",
              "      filter: drop-shadow(0px 1px 2px rgba(0, 0, 0, 0.3));\n",
              "      fill: #FFFFFF;\n",
              "    }\n",
              "  </style>\n",
              "\n",
              "      <script>\n",
              "        const buttonEl =\n",
              "          document.querySelector('#df-d5836397-f71c-4721-96d6-ba6000adafb4 button.colab-df-convert');\n",
              "        buttonEl.style.display =\n",
              "          google.colab.kernel.accessAllowed ? 'block' : 'none';\n",
              "\n",
              "        async function convertToInteractive(key) {\n",
              "          const element = document.querySelector('#df-d5836397-f71c-4721-96d6-ba6000adafb4');\n",
              "          const dataTable =\n",
              "            await google.colab.kernel.invokeFunction('convertToInteractive',\n",
              "                                                     [key], {});\n",
              "          if (!dataTable) return;\n",
              "\n",
              "          const docLinkHtml = 'Like what you see? Visit the ' +\n",
              "            '<a target=\"_blank\" href=https://colab.research.google.com/notebooks/data_table.ipynb>data table notebook</a>'\n",
              "            + ' to learn more about interactive tables.';\n",
              "          element.innerHTML = '';\n",
              "          dataTable['output_type'] = 'display_data';\n",
              "          await google.colab.output.renderOutput(dataTable, element);\n",
              "          const docLink = document.createElement('div');\n",
              "          docLink.innerHTML = docLinkHtml;\n",
              "          element.appendChild(docLink);\n",
              "        }\n",
              "      </script>\n",
              "    </div>\n",
              "  </div>\n",
              "  "
            ]
          },
          "metadata": {},
          "execution_count": 64
        }
      ]
    },
    {
      "cell_type": "markdown",
      "source": [],
      "metadata": {
        "id": "dR6GTmf_YEsS"
      }
    },
    {
      "cell_type": "code",
      "source": [
        "#Instanciamos el modelo *K número de vecinos*\n",
        "from sklearn.neighbors import KNeighborsClassifier\n",
        "knn=KNeighborsClassifier(n_neighbors=1)\n",
        "knn.fit(X_train,y_train)"
      ],
      "metadata": {
        "colab": {
          "base_uri": "https://localhost:8080/"
        },
        "id": "FTv_I1EuYTxo",
        "outputId": "5e0abc0f-4ebc-45f7-a403-13305e60edc3"
      },
      "execution_count": null,
      "outputs": [
        {
          "output_type": "stream",
          "name": "stderr",
          "text": [
            "/usr/local/lib/python3.7/dist-packages/sklearn/neighbors/_classification.py:198: DataConversionWarning: A column-vector y was passed when a 1d array was expected. Please change the shape of y to (n_samples,), for example using ravel().\n",
            "  return self._fit(X, y)\n"
          ]
        },
        {
          "output_type": "execute_result",
          "data": {
            "text/plain": [
              "KNeighborsClassifier(n_neighbors=1)"
            ]
          },
          "metadata": {},
          "execution_count": 65
        }
      ]
    },
    {
      "cell_type": "code",
      "source": [
        "prediction=knn.predict(X_test)\n",
        "prediction"
      ],
      "metadata": {
        "colab": {
          "base_uri": "https://localhost:8080/"
        },
        "id": "540M1ZuJwoRs",
        "outputId": "c8e79858-e5e8-4084-fc82-1ebcc1103c51"
      },
      "execution_count": null,
      "outputs": [
        {
          "output_type": "execute_result",
          "data": {
            "text/plain": [
              "array([0, 0, 0, ..., 0, 0, 0])"
            ]
          },
          "metadata": {},
          "execution_count": 66
        }
      ]
    },
    {
      "cell_type": "markdown",
      "source": [
        "Como buena practica, comprobamos la precisión del modelo y buscamos subir dicho valor lo máximo prosible. Cabe tener en cuenta que el actual *dataset* no es el más idóneo para este tipo de practicas. Se comprueba que el valor es lo más alto posible, en el caso actual, 0.78, lo máximo siendo 1"
      ],
      "metadata": {
        "id": "tpBzEf9MYf2P"
      }
    },
    {
      "cell_type": "code",
      "source": [
        "from sklearn.metrics import accuracy_score\n",
        "accuracy_score(y_test, prediction)"
      ],
      "metadata": {
        "colab": {
          "base_uri": "https://localhost:8080/"
        },
        "id": "GxxsxZGgwWzT",
        "outputId": "5c86a9f5-36bd-4d99-fcd5-68040fa95544"
      },
      "execution_count": null,
      "outputs": [
        {
          "output_type": "execute_result",
          "data": {
            "text/plain": [
              "0.7790697674418605"
            ]
          },
          "metadata": {},
          "execution_count": 67
        }
      ]
    },
    {
      "cell_type": "markdown",
      "source": [
        "##Mátriz de confusión\n"
      ],
      "metadata": {
        "id": "-Hr4_9u5zenM"
      }
    },
    {
      "cell_type": "code",
      "source": [
        "from sklearn.metrics import confusion_matrix\n",
        "import seaborn as sns; sns.set()\n",
        "import matplotlib.pyplot as plt\n",
        "\n",
        "\n",
        "mat = confusion_matrix(y_test, prediction)\n",
        "\n",
        "sns.heatmap(mat, square=True, annot=True, cbar=False)\n",
        "plt.xlabel('Valor predicho')\n",
        "plt.ylabel('Valor real');"
      ],
      "metadata": {
        "colab": {
          "base_uri": "https://localhost:8080/",
          "height": 285
        },
        "id": "p1YF0nZi2E6H",
        "outputId": "54958997-0281-458d-f4d1-ff9986827e27"
      },
      "execution_count": null,
      "outputs": [
        {
          "output_type": "display_data",
          "data": {
            "text/plain": [
              "<Figure size 432x288 with 1 Axes>"
            ],
            "image/png": "[encoded data removed]"
          },
          "metadata": {}
        }
      ]
    },
    {
      "cell_type": "markdown",
      "source": [
        "Como se puede evidenciar, la matriz no nos devuelve resultado *legibles* a primera vista (valores enteros), pero si analisamos los valores obtenidos, podemos ver que en 1-1 el modelo falla mucho y en 0-0 acierta mucho."
      ],
      "metadata": {
        "id": "2fVjV1dKCoVK"
      }
    },
    {
      "cell_type": "code",
      "source": [
        "training_error=[]\n",
        "test_error=[]\n",
        "# n vecinos de 1 a 15\n",
        "neighbors_setting=range(1,15)\n",
        "\n",
        "for n_neighbores in neighbors_setting:\n",
        "    clf=KNeighborsClassifier(n_neighbors=n_neighbores)\n",
        "    clf.fit(X_train,y_train)\n",
        "    training_error.append(1-clf.score(X_train,y_train))\n",
        "    test_error.append(1-clf.score(X_test,y_test))\n",
        "\n",
        "ax=plt.subplot(111)\n",
        "plt.plot(neighbors_setting,training_error,label='Error en Train')\n",
        "plt.plot(neighbors_setting,test_error,label='Error en Test')\n",
        "ax.legend()\n",
        "plt.ylabel('Error')\n",
        "plt.xlabel('Numero de vecinos, K')\n",
        "plt.show()"
      ],
      "metadata": {
        "colab": {
          "base_uri": "https://localhost:8080/",
          "height": 791
        },
        "id": "VZWNppfktfI7",
        "outputId": "d17ef693-61da-430c-a228-f4e6a853852f"
      },
      "execution_count": null,
      "outputs": [
        {
          "output_type": "stream",
          "name": "stderr",
          "text": [
            "/usr/local/lib/python3.7/dist-packages/sklearn/neighbors/_classification.py:198: DataConversionWarning: A column-vector y was passed when a 1d array was expected. Please change the shape of y to (n_samples,), for example using ravel().\n",
            "  return self._fit(X, y)\n",
            "/usr/local/lib/python3.7/dist-packages/sklearn/neighbors/_classification.py:198: DataConversionWarning: A column-vector y was passed when a 1d array was expected. Please change the shape of y to (n_samples,), for example using ravel().\n",
            "  return self._fit(X, y)\n",
            "/usr/local/lib/python3.7/dist-packages/sklearn/neighbors/_classification.py:198: DataConversionWarning: A column-vector y was passed when a 1d array was expected. Please change the shape of y to (n_samples,), for example using ravel().\n",
            "  return self._fit(X, y)\n",
            "/usr/local/lib/python3.7/dist-packages/sklearn/neighbors/_classification.py:198: DataConversionWarning: A column-vector y was passed when a 1d array was expected. Please change the shape of y to (n_samples,), for example using ravel().\n",
            "  return self._fit(X, y)\n",
            "/usr/local/lib/python3.7/dist-packages/sklearn/neighbors/_classification.py:198: DataConversionWarning: A column-vector y was passed when a 1d array was expected. Please change the shape of y to (n_samples,), for example using ravel().\n",
            "  return self._fit(X, y)\n",
            "/usr/local/lib/python3.7/dist-packages/sklearn/neighbors/_classification.py:198: DataConversionWarning: A column-vector y was passed when a 1d array was expected. Please change the shape of y to (n_samples,), for example using ravel().\n",
            "  return self._fit(X, y)\n",
            "/usr/local/lib/python3.7/dist-packages/sklearn/neighbors/_classification.py:198: DataConversionWarning: A column-vector y was passed when a 1d array was expected. Please change the shape of y to (n_samples,), for example using ravel().\n",
            "  return self._fit(X, y)\n",
            "/usr/local/lib/python3.7/dist-packages/sklearn/neighbors/_classification.py:198: DataConversionWarning: A column-vector y was passed when a 1d array was expected. Please change the shape of y to (n_samples,), for example using ravel().\n",
            "  return self._fit(X, y)\n",
            "/usr/local/lib/python3.7/dist-packages/sklearn/neighbors/_classification.py:198: DataConversionWarning: A column-vector y was passed when a 1d array was expected. Please change the shape of y to (n_samples,), for example using ravel().\n",
            "  return self._fit(X, y)\n",
            "/usr/local/lib/python3.7/dist-packages/sklearn/neighbors/_classification.py:198: DataConversionWarning: A column-vector y was passed when a 1d array was expected. Please change the shape of y to (n_samples,), for example using ravel().\n",
            "  return self._fit(X, y)\n",
            "/usr/local/lib/python3.7/dist-packages/sklearn/neighbors/_classification.py:198: DataConversionWarning: A column-vector y was passed when a 1d array was expected. Please change the shape of y to (n_samples,), for example using ravel().\n",
            "  return self._fit(X, y)\n",
            "/usr/local/lib/python3.7/dist-packages/sklearn/neighbors/_classification.py:198: DataConversionWarning: A column-vector y was passed when a 1d array was expected. Please change the shape of y to (n_samples,), for example using ravel().\n",
            "  return self._fit(X, y)\n",
            "/usr/local/lib/python3.7/dist-packages/sklearn/neighbors/_classification.py:198: DataConversionWarning: A column-vector y was passed when a 1d array was expected. Please change the shape of y to (n_samples,), for example using ravel().\n",
            "  return self._fit(X, y)\n",
            "/usr/local/lib/python3.7/dist-packages/sklearn/neighbors/_classification.py:198: DataConversionWarning: A column-vector y was passed when a 1d array was expected. Please change the shape of y to (n_samples,), for example using ravel().\n",
            "  return self._fit(X, y)\n"
          ]
        },
        {
          "output_type": "display_data",
          "data": {
            "text/plain": [
              "<Figure size 432x288 with 1 Axes>"
            ],
            "image/png": "[encoded data removed]"
          },
          "metadata": {}
        }
      ]
    },
    {
      "cell_type": "markdown",
      "source": [
        "Como conclusión de nuestro modelo, se puede observar como el valor de error mínimo en *K* se ha colocado a 1, pero el porcentaje de error en Test dentro de ese rango es muy elevado. Sin embargo, a medida que el ambos, el modelo y su entrenamiento han avanzado, también es claro como el porcentaje de error aumenta progresivamente directamente inverso al porcentaje de error en Train, lo que nos dice que ambos procesos progresivamente llegarían a coincidir si se extiende el rango de la prueba."
      ],
      "metadata": {
        "id": "c6UKbCAwG6ST"
      }
    },
    {
      "cell_type": "code",
      "source": [
        "cali.head(5)"
      ],
      "metadata": {
        "id": "iUxk2b-v8KV9",
        "outputId": "c7fba691-374f-4505-9a38-f0d53cbecf42",
        "colab": {
          "base_uri": "https://localhost:8080/",
          "height": 206
        }
      },
      "execution_count": null,
      "outputs": [
        {
          "output_type": "execute_result",
          "data": {
            "text/plain": [
              "   Longitud  Latitud  Antiguedad  Habitaciones  Habitantes   Casas  Ingresos  \\\n",
              "0   -122.23    37.88        41.0         880.0       322.0   126.0    8.3252   \n",
              "1   -122.22    37.86        21.0        7099.0      2401.0  1138.0    8.3014   \n",
              "2   -122.24    37.85        52.0        1467.0       496.0   177.0    7.2574   \n",
              "3   -122.25    37.85        52.0        1274.0       558.0   219.0    5.6431   \n",
              "4   -122.25    37.85        52.0        1627.0       565.0   259.0    3.8462   \n",
              "\n",
              "      Coste Proximidad  \n",
              "0  452600.0   NEAR BAY  \n",
              "1  358500.0   NEAR BAY  \n",
              "2  352100.0   NEAR BAY  \n",
              "3  341300.0   NEAR BAY  \n",
              "4  342200.0   NEAR BAY  "
            ],
            "text/html": [
              "\n",
              "  <div id=\"df-dc8e3ce5-5c87-425c-a252-64ca33da971e\">\n",
              "    <div class=\"colab-df-container\">\n",
              "      <div>\n",
              "<style scoped>\n",
              "    .dataframe tbody tr th:only-of-type {\n",
              "        vertical-align: middle;\n",
              "    }\n",
              "\n",
              "    .dataframe tbody tr th {\n",
              "        vertical-align: top;\n",
              "    }\n",
              "\n",
              "    .dataframe thead th {\n",
              "        text-align: right;\n",
              "    }\n",
              "</style>\n",
              "<table border=\"1\" class=\"dataframe\">\n",
              "  <thead>\n",
              "    <tr style=\"text-align: right;\">\n",
              "      <th></th>\n",
              "      <th>Longitud</th>\n",
              "      <th>Latitud</th>\n",
              "      <th>Antiguedad</th>\n",
              "      <th>Habitaciones</th>\n",
              "      <th>Habitantes</th>\n",
              "      <th>Casas</th>\n",
              "      <th>Ingresos</th>\n",
              "      <th>Coste</th>\n",
              "      <th>Proximidad</th>\n",
              "    </tr>\n",
              "  </thead>\n",
              "  <tbody>\n",
              "    <tr>\n",
              "      <th>0</th>\n",
              "      <td>-122.23</td>\n",
              "      <td>37.88</td>\n",
              "      <td>41.0</td>\n",
              "      <td>880.0</td>\n",
              "      <td>322.0</td>\n",
              "      <td>126.0</td>\n",
              "      <td>8.3252</td>\n",
              "      <td>452600.0</td>\n",
              "      <td>NEAR BAY</td>\n",
              "    </tr>\n",
              "    <tr>\n",
              "      <th>1</th>\n",
              "      <td>-122.22</td>\n",
              "      <td>37.86</td>\n",
              "      <td>21.0</td>\n",
              "      <td>7099.0</td>\n",
              "      <td>2401.0</td>\n",
              "      <td>1138.0</td>\n",
              "      <td>8.3014</td>\n",
              "      <td>358500.0</td>\n",
              "      <td>NEAR BAY</td>\n",
              "    </tr>\n",
              "    <tr>\n",
              "      <th>2</th>\n",
              "      <td>-122.24</td>\n",
              "      <td>37.85</td>\n",
              "      <td>52.0</td>\n",
              "      <td>1467.0</td>\n",
              "      <td>496.0</td>\n",
              "      <td>177.0</td>\n",
              "      <td>7.2574</td>\n",
              "      <td>352100.0</td>\n",
              "      <td>NEAR BAY</td>\n",
              "    </tr>\n",
              "    <tr>\n",
              "      <th>3</th>\n",
              "      <td>-122.25</td>\n",
              "      <td>37.85</td>\n",
              "      <td>52.0</td>\n",
              "      <td>1274.0</td>\n",
              "      <td>558.0</td>\n",
              "      <td>219.0</td>\n",
              "      <td>5.6431</td>\n",
              "      <td>341300.0</td>\n",
              "      <td>NEAR BAY</td>\n",
              "    </tr>\n",
              "    <tr>\n",
              "      <th>4</th>\n",
              "      <td>-122.25</td>\n",
              "      <td>37.85</td>\n",
              "      <td>52.0</td>\n",
              "      <td>1627.0</td>\n",
              "      <td>565.0</td>\n",
              "      <td>259.0</td>\n",
              "      <td>3.8462</td>\n",
              "      <td>342200.0</td>\n",
              "      <td>NEAR BAY</td>\n",
              "    </tr>\n",
              "  </tbody>\n",
              "</table>\n",
              "</div>\n",
              "      <button class=\"colab-df-convert\" onclick=\"convertToInteractive('df-dc8e3ce5-5c87-425c-a252-64ca33da971e')\"\n",
              "              title=\"Convert this dataframe to an interactive table.\"\n",
              "              style=\"display:none;\">\n",
              "        \n",
              "  <svg xmlns=\"http://www.w3.org/2000/svg\" height=\"24px\"viewBox=\"0 0 24 24\"\n",
              "       width=\"24px\">\n",
              "    <path d=\"M0 0h24v24H0V0z\" fill=\"none\"/>\n",
              "    <path d=\"M18.56 5.44l.94 2.06.94-2.06 2.06-.94-2.06-.94-.94-2.06-.94 2.06-2.06.94zm-11 1L8.5 8.5l.94-2.06 2.06-.94-2.06-.94L8.5 2.5l-.94 2.06-2.06.94zm10 10l.94 2.06.94-2.06 2.06-.94-2.06-.94-.94-2.06-.94 2.06-2.06.94z\"/><path d=\"M17.41 7.96l-1.37-1.37c-.4-.4-.92-.59-1.43-.59-.52 0-1.04.2-1.43.59L10.3 9.45l-7.72 7.72c-.78.78-.78 2.05 0 2.83L4 21.41c.39.39.9.59 1.41.59.51 0 1.02-.2 1.41-.59l7.78-7.78 2.81-2.81c.8-.78.8-2.07 0-2.86zM5.41 20L4 18.59l7.72-7.72 1.47 1.35L5.41 20z\"/>\n",
              "  </svg>\n",
              "      </button>\n",
              "      \n",
              "  <style>\n",
              "    .colab-df-container {\n",
              "      display:flex;\n",
              "      flex-wrap:wrap;\n",
              "      gap: 12px;\n",
              "    }\n",
              "\n",
              "    .colab-df-convert {\n",
              "      background-color: #E8F0FE;\n",
              "      border: none;\n",
              "      border-radius: 50%;\n",
              "      cursor: pointer;\n",
              "      display: none;\n",
              "      fill: #1967D2;\n",
              "      height: 32px;\n",
              "      padding: 0 0 0 0;\n",
              "      width: 32px;\n",
              "    }\n",
              "\n",
              "    .colab-df-convert:hover {\n",
              "      background-color: #E2EBFA;\n",
              "      box-shadow: 0px 1px 2px rgba(60, 64, 67, 0.3), 0px 1px 3px 1px rgba(60, 64, 67, 0.15);\n",
              "      fill: #174EA6;\n",
              "    }\n",
              "\n",
              "    [theme=dark] .colab-df-convert {\n",
              "      background-color: #3B4455;\n",
              "      fill: #D2E3FC;\n",
              "    }\n",
              "\n",
              "    [theme=dark] .colab-df-convert:hover {\n",
              "      background-color: #434B5C;\n",
              "      box-shadow: 0px 1px 3px 1px rgba(0, 0, 0, 0.15);\n",
              "      filter: drop-shadow(0px 1px 2px rgba(0, 0, 0, 0.3));\n",
              "      fill: #FFFFFF;\n",
              "    }\n",
              "  </style>\n",
              "\n",
              "      <script>\n",
              "        const buttonEl =\n",
              "          document.querySelector('#df-dc8e3ce5-5c87-425c-a252-64ca33da971e button.colab-df-convert');\n",
              "        buttonEl.style.display =\n",
              "          google.colab.kernel.accessAllowed ? 'block' : 'none';\n",
              "\n",
              "        async function convertToInteractive(key) {\n",
              "          const element = document.querySelector('#df-dc8e3ce5-5c87-425c-a252-64ca33da971e');\n",
              "          const dataTable =\n",
              "            await google.colab.kernel.invokeFunction('convertToInteractive',\n",
              "                                                     [key], {});\n",
              "          if (!dataTable) return;\n",
              "\n",
              "          const docLinkHtml = 'Like what you see? Visit the ' +\n",
              "            '<a target=\"_blank\" href=https://colab.research.google.com/notebooks/data_table.ipynb>data table notebook</a>'\n",
              "            + ' to learn more about interactive tables.';\n",
              "          element.innerHTML = '';\n",
              "          dataTable['output_type'] = 'display_data';\n",
              "          await google.colab.output.renderOutput(dataTable, element);\n",
              "          const docLink = document.createElement('div');\n",
              "          docLink.innerHTML = docLinkHtml;\n",
              "          element.appendChild(docLink);\n",
              "        }\n",
              "      </script>\n",
              "    </div>\n",
              "  </div>\n",
              "  "
            ]
          },
          "metadata": {},
          "execution_count": 70
        }
      ]
    },
    {
      "cell_type": "markdown",
      "source": [
        "#Clustering (Aprendizaje *no supervisado*)"
      ],
      "metadata": {
        "id": "l4KxrRfc8uwt"
      }
    },
    {
      "cell_type": "code",
      "source": [
        "cali.columns"
      ],
      "metadata": {
        "colab": {
          "base_uri": "https://localhost:8080/"
        },
        "id": "hNSVcTpb-Rhj",
        "outputId": "c3fa4812-cd05-4607-df1d-5bc50aecf1e6"
      },
      "execution_count": null,
      "outputs": [
        {
          "output_type": "execute_result",
          "data": {
            "text/plain": [
              "Index(['Longitud', 'Latitud', 'Antiguedad', 'Habitaciones', 'Habitantes',\n",
              "       'Casas', 'Ingresos', 'Coste', 'Proximidad'],\n",
              "      dtype='object')"
            ]
          },
          "metadata": {},
          "execution_count": 71
        }
      ]
    },
    {
      "cell_type": "code",
      "source": [
        "cali_cust = cali[[\"Antiguedad\",\"Habitaciones\",\"Habitantes\"]]\n",
        "cali_cust.head()"
      ],
      "metadata": {
        "id": "D3mobP7j-7UC",
        "colab": {
          "base_uri": "https://localhost:8080/",
          "height": 206
        },
        "outputId": "54ee50fc-499c-445a-ec7c-ed6989dd4ff9"
      },
      "execution_count": null,
      "outputs": [
        {
          "output_type": "execute_result",
          "data": {
            "text/plain": [
              "   Antiguedad  Habitaciones  Habitantes\n",
              "0        41.0         880.0       322.0\n",
              "1        21.0        7099.0      2401.0\n",
              "2        52.0        1467.0       496.0\n",
              "3        52.0        1274.0       558.0\n",
              "4        52.0        1627.0       565.0"
            ],
            "text/html": [
              "\n",
              "  <div id=\"df-048cfda4-d21e-4699-a419-3cf1d4e08c7f\">\n",
              "    <div class=\"colab-df-container\">\n",
              "      <div>\n",
              "<style scoped>\n",
              "    .dataframe tbody tr th:only-of-type {\n",
              "        vertical-align: middle;\n",
              "    }\n",
              "\n",
              "    .dataframe tbody tr th {\n",
              "        vertical-align: top;\n",
              "    }\n",
              "\n",
              "    .dataframe thead th {\n",
              "        text-align: right;\n",
              "    }\n",
              "</style>\n",
              "<table border=\"1\" class=\"dataframe\">\n",
              "  <thead>\n",
              "    <tr style=\"text-align: right;\">\n",
              "      <th></th>\n",
              "      <th>Antiguedad</th>\n",
              "      <th>Habitaciones</th>\n",
              "      <th>Habitantes</th>\n",
              "    </tr>\n",
              "  </thead>\n",
              "  <tbody>\n",
              "    <tr>\n",
              "      <th>0</th>\n",
              "      <td>41.0</td>\n",
              "      <td>880.0</td>\n",
              "      <td>322.0</td>\n",
              "    </tr>\n",
              "    <tr>\n",
              "      <th>1</th>\n",
              "      <td>21.0</td>\n",
              "      <td>7099.0</td>\n",
              "      <td>2401.0</td>\n",
              "    </tr>\n",
              "    <tr>\n",
              "      <th>2</th>\n",
              "      <td>52.0</td>\n",
              "      <td>1467.0</td>\n",
              "      <td>496.0</td>\n",
              "    </tr>\n",
              "    <tr>\n",
              "      <th>3</th>\n",
              "      <td>52.0</td>\n",
              "      <td>1274.0</td>\n",
              "      <td>558.0</td>\n",
              "    </tr>\n",
              "    <tr>\n",
              "      <th>4</th>\n",
              "      <td>52.0</td>\n",
              "      <td>1627.0</td>\n",
              "      <td>565.0</td>\n",
              "    </tr>\n",
              "  </tbody>\n",
              "</table>\n",
              "</div>\n",
              "      <button class=\"colab-df-convert\" onclick=\"convertToInteractive('df-048cfda4-d21e-4699-a419-3cf1d4e08c7f')\"\n",
              "              title=\"Convert this dataframe to an interactive table.\"\n",
              "              style=\"display:none;\">\n",
              "        \n",
              "  <svg xmlns=\"http://www.w3.org/2000/svg\" height=\"24px\"viewBox=\"0 0 24 24\"\n",
              "       width=\"24px\">\n",
              "    <path d=\"M0 0h24v24H0V0z\" fill=\"none\"/>\n",
              "    <path d=\"M18.56 5.44l.94 2.06.94-2.06 2.06-.94-2.06-.94-.94-2.06-.94 2.06-2.06.94zm-11 1L8.5 8.5l.94-2.06 2.06-.94-2.06-.94L8.5 2.5l-.94 2.06-2.06.94zm10 10l.94 2.06.94-2.06 2.06-.94-2.06-.94-.94-2.06-.94 2.06-2.06.94z\"/><path d=\"M17.41 7.96l-1.37-1.37c-.4-.4-.92-.59-1.43-.59-.52 0-1.04.2-1.43.59L10.3 9.45l-7.72 7.72c-.78.78-.78 2.05 0 2.83L4 21.41c.39.39.9.59 1.41.59.51 0 1.02-.2 1.41-.59l7.78-7.78 2.81-2.81c.8-.78.8-2.07 0-2.86zM5.41 20L4 18.59l7.72-7.72 1.47 1.35L5.41 20z\"/>\n",
              "  </svg>\n",
              "      </button>\n",
              "      \n",
              "  <style>\n",
              "    .colab-df-container {\n",
              "      display:flex;\n",
              "      flex-wrap:wrap;\n",
              "      gap: 12px;\n",
              "    }\n",
              "\n",
              "    .colab-df-convert {\n",
              "      background-color: #E8F0FE;\n",
              "      border: none;\n",
              "      border-radius: 50%;\n",
              "      cursor: pointer;\n",
              "      display: none;\n",
              "      fill: #1967D2;\n",
              "      height: 32px;\n",
              "      padding: 0 0 0 0;\n",
              "      width: 32px;\n",
              "    }\n",
              "\n",
              "    .colab-df-convert:hover {\n",
              "      background-color: #E2EBFA;\n",
              "      box-shadow: 0px 1px 2px rgba(60, 64, 67, 0.3), 0px 1px 3px 1px rgba(60, 64, 67, 0.15);\n",
              "      fill: #174EA6;\n",
              "    }\n",
              "\n",
              "    [theme=dark] .colab-df-convert {\n",
              "      background-color: #3B4455;\n",
              "      fill: #D2E3FC;\n",
              "    }\n",
              "\n",
              "    [theme=dark] .colab-df-convert:hover {\n",
              "      background-color: #434B5C;\n",
              "      box-shadow: 0px 1px 3px 1px rgba(0, 0, 0, 0.15);\n",
              "      filter: drop-shadow(0px 1px 2px rgba(0, 0, 0, 0.3));\n",
              "      fill: #FFFFFF;\n",
              "    }\n",
              "  </style>\n",
              "\n",
              "      <script>\n",
              "        const buttonEl =\n",
              "          document.querySelector('#df-048cfda4-d21e-4699-a419-3cf1d4e08c7f button.colab-df-convert');\n",
              "        buttonEl.style.display =\n",
              "          google.colab.kernel.accessAllowed ? 'block' : 'none';\n",
              "\n",
              "        async function convertToInteractive(key) {\n",
              "          const element = document.querySelector('#df-048cfda4-d21e-4699-a419-3cf1d4e08c7f');\n",
              "          const dataTable =\n",
              "            await google.colab.kernel.invokeFunction('convertToInteractive',\n",
              "                                                     [key], {});\n",
              "          if (!dataTable) return;\n",
              "\n",
              "          const docLinkHtml = 'Like what you see? Visit the ' +\n",
              "            '<a target=\"_blank\" href=https://colab.research.google.com/notebooks/data_table.ipynb>data table notebook</a>'\n",
              "            + ' to learn more about interactive tables.';\n",
              "          element.innerHTML = '';\n",
              "          dataTable['output_type'] = 'display_data';\n",
              "          await google.colab.output.renderOutput(dataTable, element);\n",
              "          const docLink = document.createElement('div');\n",
              "          docLink.innerHTML = docLinkHtml;\n",
              "          element.appendChild(docLink);\n",
              "        }\n",
              "      </script>\n",
              "    </div>\n",
              "  </div>\n",
              "  "
            ]
          },
          "metadata": {},
          "execution_count": 72
        }
      ]
    },
    {
      "cell_type": "markdown",
      "source": [
        "##Evaluación\n",
        "\n",
        "Se combina la predicción de los clusters con el *dataset* original"
      ],
      "metadata": {
        "id": "WEzetHvkR1E8"
      }
    },
    {
      "cell_type": "code",
      "source": [
        "# Copia de los datos para no modificar el dataset original y perjudicar la trazabilidad de los mismos en el resto del análisis\n",
        "cali_copy = cali.copy()\n",
        "\n",
        "# Preprocesado\n",
        "from sklearn import preprocessing\n",
        "le = preprocessing.LabelEncoder()\n",
        "cali = cali.apply(le.fit_transform)\n",
        "cali.head()"
      ],
      "metadata": {
        "colab": {
          "base_uri": "https://localhost:8080/",
          "height": 206
        },
        "id": "Tr1udsQjTno_",
        "outputId": "f69b4a56-d7ab-4433-da59-384245093d72"
      },
      "execution_count": null,
      "outputs": [
        {
          "output_type": "execute_result",
          "data": {
            "text/plain": [
              "   Longitud  Latitud  Antiguedad  Habitaciones  Habitantes  Casas  Ingresos  \\\n",
              "0       170      515          40           733         296    125     12416   \n",
              "1       171      513          20          5255        2346   1129     12411   \n",
              "2       169      512          51          1316         469    176     11941   \n",
              "3       168      512          51          1123         531    218     10269   \n",
              "4       168      512          51          1476         538    258      6656   \n",
              "\n",
              "   Coste  Proximidad  \n",
              "0   3665           3  \n",
              "1   3074           3  \n",
              "2   3017           3  \n",
              "3   2917           3  \n",
              "4   2925           3  "
            ],
            "text/html": [
              "\n",
              "  <div id=\"df-7f9f04fd-b71e-4199-8f6d-1f7000275f8e\">\n",
              "    <div class=\"colab-df-container\">\n",
              "      <div>\n",
              "<style scoped>\n",
              "    .dataframe tbody tr th:only-of-type {\n",
              "        vertical-align: middle;\n",
              "    }\n",
              "\n",
              "    .dataframe tbody tr th {\n",
              "        vertical-align: top;\n",
              "    }\n",
              "\n",
              "    .dataframe thead th {\n",
              "        text-align: right;\n",
              "    }\n",
              "</style>\n",
              "<table border=\"1\" class=\"dataframe\">\n",
              "  <thead>\n",
              "    <tr style=\"text-align: right;\">\n",
              "      <th></th>\n",
              "      <th>Longitud</th>\n",
              "      <th>Latitud</th>\n",
              "      <th>Antiguedad</th>\n",
              "      <th>Habitaciones</th>\n",
              "      <th>Habitantes</th>\n",
              "      <th>Casas</th>\n",
              "      <th>Ingresos</th>\n",
              "      <th>Coste</th>\n",
              "      <th>Proximidad</th>\n",
              "    </tr>\n",
              "  </thead>\n",
              "  <tbody>\n",
              "    <tr>\n",
              "      <th>0</th>\n",
              "      <td>170</td>\n",
              "      <td>515</td>\n",
              "      <td>40</td>\n",
              "      <td>733</td>\n",
              "      <td>296</td>\n",
              "      <td>125</td>\n",
              "      <td>12416</td>\n",
              "      <td>3665</td>\n",
              "      <td>3</td>\n",
              "    </tr>\n",
              "    <tr>\n",
              "      <th>1</th>\n",
              "      <td>171</td>\n",
              "      <td>513</td>\n",
              "      <td>20</td>\n",
              "      <td>5255</td>\n",
              "      <td>2346</td>\n",
              "      <td>1129</td>\n",
              "      <td>12411</td>\n",
              "      <td>3074</td>\n",
              "      <td>3</td>\n",
              "    </tr>\n",
              "    <tr>\n",
              "      <th>2</th>\n",
              "      <td>169</td>\n",
              "      <td>512</td>\n",
              "      <td>51</td>\n",
              "      <td>1316</td>\n",
              "      <td>469</td>\n",
              "      <td>176</td>\n",
              "      <td>11941</td>\n",
              "      <td>3017</td>\n",
              "      <td>3</td>\n",
              "    </tr>\n",
              "    <tr>\n",
              "      <th>3</th>\n",
              "      <td>168</td>\n",
              "      <td>512</td>\n",
              "      <td>51</td>\n",
              "      <td>1123</td>\n",
              "      <td>531</td>\n",
              "      <td>218</td>\n",
              "      <td>10269</td>\n",
              "      <td>2917</td>\n",
              "      <td>3</td>\n",
              "    </tr>\n",
              "    <tr>\n",
              "      <th>4</th>\n",
              "      <td>168</td>\n",
              "      <td>512</td>\n",
              "      <td>51</td>\n",
              "      <td>1476</td>\n",
              "      <td>538</td>\n",
              "      <td>258</td>\n",
              "      <td>6656</td>\n",
              "      <td>2925</td>\n",
              "      <td>3</td>\n",
              "    </tr>\n",
              "  </tbody>\n",
              "</table>\n",
              "</div>\n",
              "      <button class=\"colab-df-convert\" onclick=\"convertToInteractive('df-7f9f04fd-b71e-4199-8f6d-1f7000275f8e')\"\n",
              "              title=\"Convert this dataframe to an interactive table.\"\n",
              "              style=\"display:none;\">\n",
              "        \n",
              "  <svg xmlns=\"http://www.w3.org/2000/svg\" height=\"24px\"viewBox=\"0 0 24 24\"\n",
              "       width=\"24px\">\n",
              "    <path d=\"M0 0h24v24H0V0z\" fill=\"none\"/>\n",
              "    <path d=\"M18.56 5.44l.94 2.06.94-2.06 2.06-.94-2.06-.94-.94-2.06-.94 2.06-2.06.94zm-11 1L8.5 8.5l.94-2.06 2.06-.94-2.06-.94L8.5 2.5l-.94 2.06-2.06.94zm10 10l.94 2.06.94-2.06 2.06-.94-2.06-.94-.94-2.06-.94 2.06-2.06.94z\"/><path d=\"M17.41 7.96l-1.37-1.37c-.4-.4-.92-.59-1.43-.59-.52 0-1.04.2-1.43.59L10.3 9.45l-7.72 7.72c-.78.78-.78 2.05 0 2.83L4 21.41c.39.39.9.59 1.41.59.51 0 1.02-.2 1.41-.59l7.78-7.78 2.81-2.81c.8-.78.8-2.07 0-2.86zM5.41 20L4 18.59l7.72-7.72 1.47 1.35L5.41 20z\"/>\n",
              "  </svg>\n",
              "      </button>\n",
              "      \n",
              "  <style>\n",
              "    .colab-df-container {\n",
              "      display:flex;\n",
              "      flex-wrap:wrap;\n",
              "      gap: 12px;\n",
              "    }\n",
              "\n",
              "    .colab-df-convert {\n",
              "      background-color: #E8F0FE;\n",
              "      border: none;\n",
              "      border-radius: 50%;\n",
              "      cursor: pointer;\n",
              "      display: none;\n",
              "      fill: #1967D2;\n",
              "      height: 32px;\n",
              "      padding: 0 0 0 0;\n",
              "      width: 32px;\n",
              "    }\n",
              "\n",
              "    .colab-df-convert:hover {\n",
              "      background-color: #E2EBFA;\n",
              "      box-shadow: 0px 1px 2px rgba(60, 64, 67, 0.3), 0px 1px 3px 1px rgba(60, 64, 67, 0.15);\n",
              "      fill: #174EA6;\n",
              "    }\n",
              "\n",
              "    [theme=dark] .colab-df-convert {\n",
              "      background-color: #3B4455;\n",
              "      fill: #D2E3FC;\n",
              "    }\n",
              "\n",
              "    [theme=dark] .colab-df-convert:hover {\n",
              "      background-color: #434B5C;\n",
              "      box-shadow: 0px 1px 3px 1px rgba(0, 0, 0, 0.15);\n",
              "      filter: drop-shadow(0px 1px 2px rgba(0, 0, 0, 0.3));\n",
              "      fill: #FFFFFF;\n",
              "    }\n",
              "  </style>\n",
              "\n",
              "      <script>\n",
              "        const buttonEl =\n",
              "          document.querySelector('#df-7f9f04fd-b71e-4199-8f6d-1f7000275f8e button.colab-df-convert');\n",
              "        buttonEl.style.display =\n",
              "          google.colab.kernel.accessAllowed ? 'block' : 'none';\n",
              "\n",
              "        async function convertToInteractive(key) {\n",
              "          const element = document.querySelector('#df-7f9f04fd-b71e-4199-8f6d-1f7000275f8e');\n",
              "          const dataTable =\n",
              "            await google.colab.kernel.invokeFunction('convertToInteractive',\n",
              "                                                     [key], {});\n",
              "          if (!dataTable) return;\n",
              "\n",
              "          const docLinkHtml = 'Like what you see? Visit the ' +\n",
              "            '<a target=\"_blank\" href=https://colab.research.google.com/notebooks/data_table.ipynb>data table notebook</a>'\n",
              "            + ' to learn more about interactive tables.';\n",
              "          element.innerHTML = '';\n",
              "          dataTable['output_type'] = 'display_data';\n",
              "          await google.colab.output.renderOutput(dataTable, element);\n",
              "          const docLink = document.createElement('div');\n",
              "          docLink.innerHTML = docLinkHtml;\n",
              "          element.appendChild(docLink);\n",
              "        }\n",
              "      </script>\n",
              "    </div>\n",
              "  </div>\n",
              "  "
            ]
          },
          "metadata": {},
          "execution_count": 73
        }
      ]
    },
    {
      "cell_type": "code",
      "source": [
        "kmeans = KMeans(n_clusters=2, random_state=0).fit(cali)\n",
        "kmeans.labels_"
      ],
      "metadata": {
        "colab": {
          "base_uri": "https://localhost:8080/"
        },
        "id": "HqjV0NdFSRfp",
        "outputId": "0f4a5eee-d5a2-4c67-99f7-039e3c3c1d47"
      },
      "execution_count": null,
      "outputs": [
        {
          "output_type": "execute_result",
          "data": {
            "text/plain": [
              "array([1, 1, 1, ..., 0, 0, 0], dtype=int32)"
            ]
          },
          "metadata": {},
          "execution_count": 74
        }
      ]
    },
    {
      "cell_type": "code",
      "source": [
        "#Creamos la variable para implementar nuestro metodo en la identificación\n",
        "prediction = kmeans.predict(cali)\n",
        "\n",
        "kmeans.cluster_centers_\n"
      ],
      "metadata": {
        "colab": {
          "base_uri": "https://localhost:8080/"
        },
        "id": "qYlBEJwpTsxn",
        "outputId": "97e96770-a621-4de9-f2cf-988e1b96652c"
      },
      "execution_count": null,
      "outputs": [
        {
          "output_type": "execute_result",
          "data": {
            "text/plain": [
              "array([[4.38554393e+02, 3.15879480e+02, 2.90784064e+01, 1.96168929e+03,\n",
              "        1.29864744e+03, 4.69806349e+02, 3.32530444e+03, 1.05167873e+03,\n",
              "        1.17645989e+00],\n",
              "       [4.33010056e+02, 2.82963923e+02, 2.59994817e+01, 2.58735414e+03,\n",
              "        1.34293500e+03, 5.02121708e+02, 9.06321584e+03, 2.20788265e+03,\n",
              "        1.15374248e+00]])"
            ]
          },
          "metadata": {},
          "execution_count": 75
        }
      ]
    },
    {
      "cell_type": "code",
      "source": [
        "#Reseteamos la copia creada\n",
        "cali = cali_copy.reset_index()"
      ],
      "metadata": {
        "id": "xcZ8OLfiUWqz"
      },
      "execution_count": null,
      "outputs": []
    },
    {
      "cell_type": "code",
      "source": [
        "clustersDf = pd.DataFrame(prediction)\n",
        "clustersDf.columns = ['Prediccion del cluster']\n",
        "combinedDf = pd.concat([cali, clustersDf], axis = 1).reset_index()\n",
        "combinedDf = combinedDf.drop(['index', 'level_0'], axis = 1)"
      ],
      "metadata": {
        "id": "me1y3PODVXt7"
      },
      "execution_count": null,
      "outputs": []
    },
    {
      "cell_type": "markdown",
      "source": [
        "###Identificación de datos"
      ],
      "metadata": {
        "id": "HO0LO5I1V3mC"
      }
    },
    {
      "cell_type": "code",
      "source": [
        "cluster_0 = combinedDf[combinedDf['Prediccion del cluster'] == 0]\n",
        "cluster_1 = combinedDf[combinedDf['Prediccion del cluster'] == 1]"
      ],
      "metadata": {
        "id": "W49abqCCV9Ig"
      },
      "execution_count": null,
      "outputs": []
    },
    {
      "cell_type": "code",
      "source": [
        "#Verificación del cluster 0\n",
        "cluster_0.info()"
      ],
      "metadata": {
        "colab": {
          "base_uri": "https://localhost:8080/"
        },
        "id": "YMqmoYX2WIQk",
        "outputId": "698ba5e1-9274-4e75-c016-c27d413e58c0"
      },
      "execution_count": null,
      "outputs": [
        {
          "output_type": "stream",
          "name": "stdout",
          "text": [
            "<class 'pandas.core.frame.DataFrame'>\n",
            "Int64Index: 10987 entries, 7 to 20639\n",
            "Data columns (total 10 columns):\n",
            " #   Column                  Non-Null Count  Dtype  \n",
            "---  ------                  --------------  -----  \n",
            " 0   Longitud                10987 non-null  float64\n",
            " 1   Latitud                 10987 non-null  float64\n",
            " 2   Antiguedad              10987 non-null  float64\n",
            " 3   Habitaciones            10987 non-null  float64\n",
            " 4   Habitantes              10987 non-null  float64\n",
            " 5   Casas                   10987 non-null  float64\n",
            " 6   Ingresos                10987 non-null  float64\n",
            " 7   Coste                   10987 non-null  float64\n",
            " 8   Proximidad              10987 non-null  object \n",
            " 9   Prediccion del cluster  10987 non-null  int32  \n",
            "dtypes: float64(8), int32(1), object(1)\n",
            "memory usage: 901.3+ KB\n"
          ]
        }
      ]
    },
    {
      "cell_type": "code",
      "source": [
        "#Verificación del cluster 1\n",
        "cluster_1.info()"
      ],
      "metadata": {
        "colab": {
          "base_uri": "https://localhost:8080/"
        },
        "id": "x6TtH6ucW1ZN",
        "outputId": "f109c4a0-1698-4812-e67f-ad2041669829"
      },
      "execution_count": null,
      "outputs": [
        {
          "output_type": "stream",
          "name": "stdout",
          "text": [
            "<class 'pandas.core.frame.DataFrame'>\n",
            "Int64Index: 9653 entries, 0 to 20625\n",
            "Data columns (total 10 columns):\n",
            " #   Column                  Non-Null Count  Dtype  \n",
            "---  ------                  --------------  -----  \n",
            " 0   Longitud                9653 non-null   float64\n",
            " 1   Latitud                 9653 non-null   float64\n",
            " 2   Antiguedad              9653 non-null   float64\n",
            " 3   Habitaciones            9653 non-null   float64\n",
            " 4   Habitantes              9653 non-null   float64\n",
            " 5   Casas                   9653 non-null   float64\n",
            " 6   Ingresos                9653 non-null   float64\n",
            " 7   Coste                   9653 non-null   float64\n",
            " 8   Proximidad              9653 non-null   object \n",
            " 9   Prediccion del cluster  9653 non-null   int32  \n",
            "dtypes: float64(8), int32(1), object(1)\n",
            "memory usage: 791.8+ KB\n"
          ]
        }
      ]
    },
    {
      "cell_type": "markdown",
      "source": [
        "Intentamos analizar una de las variables para comprobar el funcionamiento de ambos clusters, en este caso utilizaremos *Antiguedad*"
      ],
      "metadata": {
        "id": "YyfH1aCmXHa3"
      }
    },
    {
      "cell_type": "code",
      "source": [
        "plt.subplots(figsize = (25,5))\n",
        "sns.countplot(x=combinedDf['Antiguedad'],order=combinedDf['Antiguedad'].value_counts().index, hue=combinedDf['Prediccion del cluster'])\n",
        "plt.show()"
      ],
      "metadata": {
        "colab": {
          "base_uri": "https://localhost:8080/",
          "height": 269
        },
        "id": "hK4sUAsOXcuu",
        "outputId": "5680e1f7-2c3f-42cf-cb2a-e81f9fa275c3"
      },
      "execution_count": null,
      "outputs": [
        {
          "output_type": "display_data",
          "data": {
            "text/plain": [
              "<Figure size 1800x360 with 1 Axes>"
            ],
            "image/png": "[encoded data removed]"
          },
          "metadata": {}
        }
      ]
    },
    {
      "cell_type": "markdown",
      "source": [
        "Como se puede evidenciar, los *clusters* funcionan y nos deveulven predicciones distintas. Se puede decir que ambos *clusters* tienen *tendencias* diferentes."
      ],
      "metadata": {
        "id": "LGoEWi_PazMS"
      }
    },
    {
      "cell_type": "markdown",
      "source": [
        "Inicialmente, la gráfica anterior retornaba de una manera que los valores se solapaban entre sí. Se ha intentado hacer un *slicing* al *dataframe* en busca de reducir el tamaño de los datos agrupados en el conjunto usado para dicho análisis *no supervisado*. El método se ha abandonado al ser más practico aumentar el tamaño de visualización sin necesidad del *slicing*"
      ],
      "metadata": {
        "id": "7V_cfncmbOWE"
      }
    },
    {
      "cell_type": "markdown",
      "source": [
        "Para completitud del estudio, se realiza un mapa de calor donde el tamaño de los circulos representa la cantidad de habitantes y los colores representan el coste de las viviendas siendo los colores frios más baratos y los colores más calientes representando las más caras."
      ],
      "metadata": {
        "id": "vWdXG3fWrgVd"
      }
    },
    {
      "cell_type": "code",
      "source": [
        "img = plt.imread(\"data:image/png;base64,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\")"
      ],
      "metadata": {
        "id": "KO91EJAFUmmJ"
      },
      "execution_count": null,
      "outputs": []
    },
    {
      "cell_type": "code",
      "source": [
        "cali_plot = cali[['Longitud','Habitantes','Latitud','Coste']]"
      ],
      "metadata": {
        "id": "xW5LthUAVEgZ"
      },
      "execution_count": null,
      "outputs": []
    },
    {
      "cell_type": "code",
      "source": [
        "cali_plot.plot(kind='scatter', x='Longitud', y='Latitud', alpha=0.4,\n",
        "\t\t\t\ts=cali['Habitantes']/100, label='Habitantes', figsize=(10,7),\n",
        "\t\t\t\tc='Coste', cmap=plt.get_cmap('jet'), colorbar=True)\n",
        "plt.imshow(img, extent=[-125, -113.30, 32.45, 42.05], alpha=0.3)\n",
        "plt.ylabel(\"Latitud\", fontsize=14)\n",
        "plt.xlabel(\"Longitud\", fontsize=14)\n",
        "plt.legend() \n",
        "plt.show()"
      ],
      "metadata": {
        "colab": {
          "base_uri": "https://localhost:8080/",
          "height": 415
        },
        "id": "34jlBhYTUquQ",
        "outputId": "4930c72f-c928-4c95-fcaa-e09eeace38a3"
      },
      "execution_count": null,
      "outputs": [
        {
          "output_type": "display_data",
          "data": {
            "text/plain": [
              "<Figure size 720x504 with 2 Axes>"
            ],
            "image/png": "[encoded data removed]"
          },
          "metadata": {}
        }
      ]
    },
    {
      "cell_type": "markdown",
      "source": [
        "#Evaluación y comparación de modelos\n",
        "\n",
        "Teniendo en cuenta el *dataframe* y la carencia de alguno de los tipos de datos, se han planteado determinadas problemáticas y encontrado errores durante los diferentes métodos utilizados y etapas del análisis. Después de culminar dicho proceso, se puede ver con claridad que tanto el aprendizaje supervisado como el no supervisado tienen sus *pros and cons*, el primero sirve para entender mejor como funciona cada paso del método que se use, evidentemente, se presente como una técnica *manual* por ende puede llegar a parecer menos fiable, pero a diferencia del aprendizaje no supervisado, se visualiza mejor el margen de error (en este caso). En contraparte, este último es *automático*, es más cómodo y rápido de implementar, el entrenamiento del modelo será tan bueno como el *DF* y la implementación de las variables.\n",
        "\n",
        "Con respecto al *dataframe*, se han encontrado incongruensias durante la implementación de las técnicas y métodos, *e.g*, la variable Antiguedad no guardando ninguna correlación con la variable Coste, se han intentado diferentes variables y diferentes tipos de variables en ambas técnicas y pudimos ver como las variables Antiguedad y Habitantes, de tipo entero, funcionan en el aprendizaje no supervisado y Coste no, en contraparte, Coste, de tipo *float* funciona mejor en el aprendizaje supervisado. La variable Proximidad se ha demostrado que poco funciona durante todo el análisis, incluso después de cambiarla a entera y binaria. La variable inicial *total_bedrooms* ha probado sólo otorgar margen de error y ambigüedad al *DF*, retornando 207 valores duplicados y guardando cerca de ninguna diferencia categórica de *total_rooms* (posteriormente llamada Habitaciones)\n",
        "\n",
        "A modo de conclusión, hemos evidenciado como el aprendizaje supervisado es mejor para el estudiante, permitiendo no sólo ver paso a paso como evoluciona el método que se implemente sino también al ser *manual*, a diferencia del aprendizaje no supervisado, el cual resulta cómodo e interesante, pero *automático*. En el caso actual, se ha conseguido un porcentaje de precisión del 0.78% dandonos un margen de error del 22%, lo cual sirve para entender la importancia de escoger el método y técnica adecuado para el *dataframe* que se tenga a trabajar."
      ],
      "metadata": {
        "id": "LGjCtEACg17X"
      }
    },
    {
      "cell_type": "markdown",
      "source": [
        "**Alfonso M. Armenta y Christofer E. Blanco, URJC-Antecendentes de la Inteligencia Artifical, 2022**"
      ],
      "metadata": {
        "id": "Hq0B6G1q7qPH"
      }
    }
  ]
}